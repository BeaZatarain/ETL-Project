{
 "cells": [
  {
   "cell_type": "markdown",
   "id": "7f6b79c9",
   "metadata": {},
   "source": [
    "**EXTRACCIÓN Y LIMPIEZA DE DATOS**"
   ]
  },
  {
   "cell_type": "markdown",
   "id": "87680a13",
   "metadata": {},
   "source": [
    "**1. EXTRACCIÓN DE DATOS**"
   ]
  },
  {
   "cell_type": "code",
   "execution_count": 1,
   "id": "912933d6",
   "metadata": {},
   "outputs": [],
   "source": [
    "# importación de librerias\n",
    "\n",
    "import pandas as pd\n",
    "\n",
    "\n",
    "import numpy as np\n",
    "\n",
    "import warnings\n",
    "warnings.filterwarnings ('ignore')\n",
    "\n",
    "pd.set_option('display.max_columns', None)\n",
    "pd.set_option('display.max_rows', None)\n",
    "\n",
    "import seaborn as sns\n",
    "\n",
    "import matplotlib.pyplot as plt"
   ]
  },
  {
   "cell_type": "code",
   "execution_count": 2,
   "id": "8dd2aeb9",
   "metadata": {},
   "outputs": [],
   "source": [
    "\n",
    "from selenium.webdriver.chrome.options import Options\n",
    "from webdriver_manager.chrome import ChromeDriverManager\n",
    "import warnings\n",
    "warnings.filterwarnings('ignore')\n",
    "from selenium import webdriver\n",
    "from selenium.webdriver.common.by import By"
   ]
  },
  {
   "cell_type": "code",
   "execution_count": 3,
   "id": "358b6219",
   "metadata": {},
   "outputs": [],
   "source": [
    "#driver configuration\n",
    "opciones=Options()\n",
    "\n",
    "opciones.add_experimental_option('excludeSwitches', ['enable-automation'])\n",
    "opciones.add_experimental_option('useAutomationExtension', False)\n",
    "opciones.headless=False    # si True, no aperece la ventana (headless=no visible)\n",
    "#opciones.add_argument('--start-maximized')         # comienza maximizado\n",
    "#opciones.add_argument('user-data-dir=selenium')    # mantiene las cookies\n",
    "#opciones.add_extension('driver_folder/adblock.crx')       # adblocker\n",
    "#opciones.add_argument('--incognito')"
   ]
  },
  {
   "cell_type": "markdown",
   "id": "09eb3626",
   "metadata": {},
   "source": [
    "1.1 Importación CSV de Base de datos de Registro de Servicios Sociales de la Comunidad de Madrid\n",
    "\n",
    " - **Fuente**: 'https://datos.comunidad.madrid/catalogo/dataset/servicios_sociales_registro_centros'\n",
    " - **Método de extracción**: descarga CSV de la página web oficial."
   ]
  },
  {
   "cell_type": "code",
   "execution_count": 4,
   "id": "ec80ef69",
   "metadata": {},
   "outputs": [],
   "source": [
    "#import csv and creat a copy of the original df\n",
    "\n",
    "ssmadrid_ori = pd.read_csv('../ETL-Project/data/servicios_sociales_registro_centros.csv',\n",
    "                                  encoding = 'latin1', on_bad_lines='skip',sep=';')\n",
    "\n",
    "ssmadrid = ssmadrid_ori.copy()"
   ]
  },
  {
   "cell_type": "code",
   "execution_count": 5,
   "id": "b29d4bf7",
   "metadata": {},
   "outputs": [
    {
     "data": {
      "text/html": [
       "<div>\n",
       "<style scoped>\n",
       "    .dataframe tbody tr th:only-of-type {\n",
       "        vertical-align: middle;\n",
       "    }\n",
       "\n",
       "    .dataframe tbody tr th {\n",
       "        vertical-align: top;\n",
       "    }\n",
       "\n",
       "    .dataframe thead th {\n",
       "        text-align: right;\n",
       "    }\n",
       "</style>\n",
       "<table border=\"1\" class=\"dataframe\">\n",
       "  <thead>\n",
       "    <tr style=\"text-align: right;\">\n",
       "      <th></th>\n",
       "      <th>numero_registro</th>\n",
       "      <th>denominacion</th>\n",
       "      <th>plazas_autorizadas_numero</th>\n",
       "      <th>plazas_descripcion</th>\n",
       "      <th>tipologia</th>\n",
       "      <th>subtipo</th>\n",
       "      <th>sector</th>\n",
       "      <th>municipio_codigo</th>\n",
       "      <th>municipio_nombre</th>\n",
       "      <th>direccion_via_tipo</th>\n",
       "      <th>direccion_via_codigo</th>\n",
       "      <th>direccion_via_nombre</th>\n",
       "      <th>direccion_portal</th>\n",
       "      <th>direccion_coor_x</th>\n",
       "      <th>direccion_coor_y</th>\n",
       "      <th>direccion_codigo_postal</th>\n",
       "      <th>contacto_telefono</th>\n",
       "      <th>entidad_denominacion</th>\n",
       "      <th>entidad_cif</th>\n",
       "      <th>entidad_naturaleza</th>\n",
       "    </tr>\n",
       "  </thead>\n",
       "  <tbody>\n",
       "    <tr>\n",
       "      <th>0</th>\n",
       "      <td>C0003</td>\n",
       "      <td>CENTRO DE REHABILITACION LABORAL NUEVA VIDA</td>\n",
       "      <td>40</td>\n",
       "      <td>Capacidad máxima simultánea</td>\n",
       "      <td>CENTROS DE REHABILITACIÓN</td>\n",
       "      <td>CENTROS DE REHABILITACIÓN: OTROS</td>\n",
       "      <td>Personas con enfermedad mental crónica</td>\n",
       "      <td>079</td>\n",
       "      <td>Madrid</td>\n",
       "      <td>CALLE</td>\n",
       "      <td>01394</td>\n",
       "      <td>de Colomer</td>\n",
       "      <td>14</td>\n",
       "      <td>443535</td>\n",
       "      <td>4475980</td>\n",
       "      <td>28028</td>\n",
       "      <td>91355 26 80</td>\n",
       "      <td>ASOCIACION PSIQUIATRIA Y VIDA</td>\n",
       "      <td>G28727261</td>\n",
       "      <td>PRIVADA SIN ÁNIMO DE LUCRO</td>\n",
       "    </tr>\n",
       "  </tbody>\n",
       "</table>\n",
       "</div>"
      ],
      "text/plain": [
       "  numero_registro                                 denominacion  \\\n",
       "0           C0003  CENTRO DE REHABILITACION LABORAL NUEVA VIDA   \n",
       "\n",
       "   plazas_autorizadas_numero           plazas_descripcion  \\\n",
       "0                         40  Capacidad máxima simultánea   \n",
       "\n",
       "                   tipologia                           subtipo  \\\n",
       "0  CENTROS DE REHABILITACIÓN  CENTROS DE REHABILITACIÓN: OTROS   \n",
       "\n",
       "                                   sector municipio_codigo municipio_nombre  \\\n",
       "0  Personas con enfermedad mental crónica              079           Madrid   \n",
       "\n",
       "  direccion_via_tipo direccion_via_codigo direccion_via_nombre  \\\n",
       "0              CALLE                01394           de Colomer   \n",
       "\n",
       "  direccion_portal direccion_coor_x direccion_coor_y direccion_codigo_postal  \\\n",
       "0               14           443535          4475980                   28028   \n",
       "\n",
       "  contacto_telefono           entidad_denominacion entidad_cif  \\\n",
       "0       91355 26 80  ASOCIACION PSIQUIATRIA Y VIDA   G28727261   \n",
       "\n",
       "           entidad_naturaleza  \n",
       "0  PRIVADA SIN ÁNIMO DE LUCRO  "
      ]
     },
     "execution_count": 5,
     "metadata": {},
     "output_type": "execute_result"
    }
   ],
   "source": [
    "ssmadrid.head(1)"
   ]
  },
  {
   "cell_type": "markdown",
   "id": "5b8159bc",
   "metadata": {},
   "source": [
    "1.2 Scraping codigos postales de la comunidad de Madrid\n",
    "\n",
    "- **Fuente**: 'https://www.worldpostalcodes.org/es/espana/comunidad-autonoma/lista-de-codigos-postales-en-community-of-madrid'\n",
    "- **Método**: scraping utilizando la herramienta Selenium\n"
   ]
  },
  {
   "cell_type": "code",
   "execution_count": 6,
   "id": "0be2c6d1",
   "metadata": {},
   "outputs": [],
   "source": [
    "PATH = ChromeDriverManager().install()     # instala el driver de chrome\n",
    "\n",
    "driver=webdriver.Chrome(PATH, options=opciones)      # abre una venta una de chrome\n"
   ]
  },
  {
   "cell_type": "code",
   "execution_count": 7,
   "id": "fc0c8992",
   "metadata": {},
   "outputs": [],
   "source": [
    "url = 'https://www.worldpostalcodes.org/es/espana/comunidad-autonoma/lista-de-codigos-postales-en-community-of-madrid'"
   ]
  },
  {
   "cell_type": "code",
   "execution_count": 8,
   "id": "d486ded5",
   "metadata": {},
   "outputs": [],
   "source": [
    "driver.implicitly_wait(3)\n",
    "driver.get(url)"
   ]
  },
  {
   "cell_type": "code",
   "execution_count": 9,
   "id": "25274cb9",
   "metadata": {},
   "outputs": [],
   "source": [
    "tabla = driver.find_elements(By.XPATH, '/html/body/div/div/div/div/table[1]')\n",
    "\n",
    "litatabla = [e.text.strip().split('\\n') for e in tabla]\n",
    "\n",
    "\n"
   ]
  },
  {
   "cell_type": "code",
   "execution_count": 10,
   "id": "996dce93",
   "metadata": {},
   "outputs": [
    {
     "data": {
      "text/plain": [
       "['Codigo Postal',\n",
       " 'Nombre del lugar del Código Postal',\n",
       " 'Comunidad Autónoma',\n",
       " 'Provincia']"
      ]
     },
     "execution_count": 10,
     "metadata": {},
     "output_type": "execute_result"
    }
   ],
   "source": [
    "columnas=driver.find_elements(By.TAG_NAME, 'th') \n",
    "\n",
    "listcols= [e.text.strip() for e in columnas]\n",
    "\n",
    "listcols"
   ]
  },
  {
   "cell_type": "code",
   "execution_count": 11,
   "id": "e553bbd0",
   "metadata": {},
   "outputs": [],
   "source": [
    "data = [[e.text for e in f.find_elements(By.TAG_NAME, 'td')]  \n",
    "        for f in driver.find_element(By.TAG_NAME, 'tbody').find_elements(By.TAG_NAME, 'tr')]\n",
    "\n",
    "data = data[1:]"
   ]
  },
  {
   "cell_type": "code",
   "execution_count": 12,
   "id": "e8bd53de",
   "metadata": {},
   "outputs": [
    {
     "data": {
      "text/html": [
       "<div>\n",
       "<style scoped>\n",
       "    .dataframe tbody tr th:only-of-type {\n",
       "        vertical-align: middle;\n",
       "    }\n",
       "\n",
       "    .dataframe tbody tr th {\n",
       "        vertical-align: top;\n",
       "    }\n",
       "\n",
       "    .dataframe thead th {\n",
       "        text-align: right;\n",
       "    }\n",
       "</style>\n",
       "<table border=\"1\" class=\"dataframe\">\n",
       "  <thead>\n",
       "    <tr style=\"text-align: right;\">\n",
       "      <th></th>\n",
       "      <th>Codigo Postal</th>\n",
       "      <th>Nombre del lugar del Código Postal</th>\n",
       "      <th>Comunidad Autónoma</th>\n",
       "      <th>Provincia</th>\n",
       "    </tr>\n",
       "  </thead>\n",
       "  <tbody>\n",
       "    <tr>\n",
       "      <th>0</th>\n",
       "      <td>28001</td>\n",
       "      <td>Madrid</td>\n",
       "      <td>Comunidad de Madrid</td>\n",
       "      <td>Comunidad de Madrid</td>\n",
       "    </tr>\n",
       "  </tbody>\n",
       "</table>\n",
       "</div>"
      ],
      "text/plain": [
       "  Codigo Postal Nombre del lugar del Código Postal   Comunidad Autónoma  \\\n",
       "0         28001                             Madrid  Comunidad de Madrid   \n",
       "\n",
       "             Provincia  \n",
       "0  Comunidad de Madrid  "
      ]
     },
     "execution_count": 12,
     "metadata": {},
     "output_type": "execute_result"
    }
   ],
   "source": [
    "cp_madrid = pd.DataFrame(data, columns = listcols)\n",
    "\n",
    "cp_madrid.head(1)"
   ]
  },
  {
   "cell_type": "code",
   "execution_count": 13,
   "id": "a2aeefef",
   "metadata": {},
   "outputs": [
    {
     "data": {
      "text/html": [
       "<div>\n",
       "<style scoped>\n",
       "    .dataframe tbody tr th:only-of-type {\n",
       "        vertical-align: middle;\n",
       "    }\n",
       "\n",
       "    .dataframe tbody tr th {\n",
       "        vertical-align: top;\n",
       "    }\n",
       "\n",
       "    .dataframe thead th {\n",
       "        text-align: right;\n",
       "    }\n",
       "</style>\n",
       "<table border=\"1\" class=\"dataframe\">\n",
       "  <thead>\n",
       "    <tr style=\"text-align: right;\">\n",
       "      <th></th>\n",
       "      <th>codigo_postal</th>\n",
       "      <th>nombre_del_lugar_del_código_postal</th>\n",
       "      <th>comunidad_autónoma</th>\n",
       "      <th>provincia</th>\n",
       "    </tr>\n",
       "  </thead>\n",
       "  <tbody>\n",
       "    <tr>\n",
       "      <th>0</th>\n",
       "      <td>28001</td>\n",
       "      <td>Madrid</td>\n",
       "      <td>Comunidad de Madrid</td>\n",
       "      <td>Comunidad de Madrid</td>\n",
       "    </tr>\n",
       "    <tr>\n",
       "      <th>1</th>\n",
       "      <td>28002</td>\n",
       "      <td>Madrid</td>\n",
       "      <td>Comunidad de Madrid</td>\n",
       "      <td>Comunidad de Madrid</td>\n",
       "    </tr>\n",
       "    <tr>\n",
       "      <th>2</th>\n",
       "      <td>28003</td>\n",
       "      <td>Madrid</td>\n",
       "      <td>Comunidad de Madrid</td>\n",
       "      <td>Comunidad de Madrid</td>\n",
       "    </tr>\n",
       "    <tr>\n",
       "      <th>3</th>\n",
       "      <td>28004</td>\n",
       "      <td>Madrid</td>\n",
       "      <td>Comunidad de Madrid</td>\n",
       "      <td>Comunidad de Madrid</td>\n",
       "    </tr>\n",
       "    <tr>\n",
       "      <th>4</th>\n",
       "      <td>28005</td>\n",
       "      <td>Madrid</td>\n",
       "      <td>Comunidad de Madrid</td>\n",
       "      <td>Comunidad de Madrid</td>\n",
       "    </tr>\n",
       "  </tbody>\n",
       "</table>\n",
       "</div>"
      ],
      "text/plain": [
       "  codigo_postal nombre_del_lugar_del_código_postal   comunidad_autónoma  \\\n",
       "0         28001                             Madrid  Comunidad de Madrid   \n",
       "1         28002                             Madrid  Comunidad de Madrid   \n",
       "2         28003                             Madrid  Comunidad de Madrid   \n",
       "3         28004                             Madrid  Comunidad de Madrid   \n",
       "4         28005                             Madrid  Comunidad de Madrid   \n",
       "\n",
       "             provincia  \n",
       "0  Comunidad de Madrid  \n",
       "1  Comunidad de Madrid  \n",
       "2  Comunidad de Madrid  \n",
       "3  Comunidad de Madrid  \n",
       "4  Comunidad de Madrid  "
      ]
     },
     "execution_count": 13,
     "metadata": {},
     "output_type": "execute_result"
    }
   ],
   "source": [
    "cp_madrid.columns = [e.lower(). replace(' ', '_') for e in cp_madrid]\n",
    "\n",
    "cp_madrid.head()"
   ]
  },
  {
   "cell_type": "code",
   "execution_count": 14,
   "id": "555a6142",
   "metadata": {},
   "outputs": [],
   "source": [
    "cp_madrid.to_csv('../ETL-Project/data/cp_madrid.csv', index = False)"
   ]
  },
  {
   "cell_type": "markdown",
   "id": "dd9b94a6",
   "metadata": {},
   "source": [
    "1.3 Población por cada código postal de la Comunidad de Madrid de 2022\n",
    "\n",
    "- **Fuente**: INE = 'https://www.ine.es/jaxiT3/Tabla.htm?t=2881'\n",
    "- **Método**: configuración de la selección de datos (población por cada CP de la Comunidad de Madrid del año 2022, por género y número total de personas)"
   ]
  },
  {
   "cell_type": "markdown",
   "id": "42baed6e",
   "metadata": {},
   "source": [
    "1.4 Ayudas Sociales de la Comunidad de Madrid de 2022\n",
    "\n",
    "- **Fuente**: Portal de datos abiertos del Ayuntamiento de Madrid = 'https://datos.madrid.es/portal/site/egob'\n",
    "- **Método**: descarga de CSV"
   ]
  },
  {
   "cell_type": "markdown",
   "id": "1ec7b790",
   "metadata": {},
   "source": [
    "1.5 Panel de indicadores de distritos y barrios de Madrid de 2022.\n",
    "- **Fuente**: Portal de datos abiertos del Ayuntamiento de Madrid = 'https://datos.madrid.es/portal/site/egob'\n",
    "- **Método**: descarga de documento Excel."
   ]
  },
  {
   "cell_type": "markdown",
   "id": "550306a0",
   "metadata": {},
   "source": [
    "**2. EXPLORACIÓN Y LIMPIEZA DE DATOS**"
   ]
  },
  {
   "cell_type": "markdown",
   "id": "f9a81a5c",
   "metadata": {},
   "source": [
    "Limpieza y unificación de las tablas de población y códigos postales -> poblacion_completa"
   ]
  },
  {
   "cell_type": "code",
   "execution_count": 15,
   "id": "e8274a24",
   "metadata": {},
   "outputs": [],
   "source": [
    "#En primer lugar, trataremos de unificar en un sólo dataframe tanto la tabla de códigos postales de Madrid, como la tabla de población por código postal. \n",
    "\n",
    "poblacion_ori = pd.read_csv('../ETL-Project/data/poblacion_cp.csv',\n",
    "                                  encoding = 'latin1', on_bad_lines='skip',sep='\\t')\n",
    "\n",
    "poblacion = poblacion_ori.copy()"
   ]
  },
  {
   "cell_type": "code",
   "execution_count": 16,
   "id": "f077712e",
   "metadata": {},
   "outputs": [
    {
     "data": {
      "text/plain": [
       "(540, 4)"
      ]
     },
     "execution_count": 16,
     "metadata": {},
     "output_type": "execute_result"
    }
   ],
   "source": [
    "poblacion.shape"
   ]
  },
  {
   "cell_type": "code",
   "execution_count": 17,
   "id": "69ea31ed",
   "metadata": {},
   "outputs": [
    {
     "data": {
      "text/html": [
       "<div>\n",
       "<style scoped>\n",
       "    .dataframe tbody tr th:only-of-type {\n",
       "        vertical-align: middle;\n",
       "    }\n",
       "\n",
       "    .dataframe tbody tr th {\n",
       "        vertical-align: top;\n",
       "    }\n",
       "\n",
       "    .dataframe thead th {\n",
       "        text-align: right;\n",
       "    }\n",
       "</style>\n",
       "<table border=\"1\" class=\"dataframe\">\n",
       "  <thead>\n",
       "    <tr style=\"text-align: right;\">\n",
       "      <th></th>\n",
       "      <th>Municipios</th>\n",
       "      <th>Sexo</th>\n",
       "      <th>Periodo</th>\n",
       "      <th>Total</th>\n",
       "    </tr>\n",
       "  </thead>\n",
       "  <tbody>\n",
       "    <tr>\n",
       "      <th>0</th>\n",
       "      <td>28 Madrid</td>\n",
       "      <td>Total</td>\n",
       "      <td>2022</td>\n",
       "      <td>6.750.336</td>\n",
       "    </tr>\n",
       "    <tr>\n",
       "      <th>1</th>\n",
       "      <td>28 Madrid</td>\n",
       "      <td>Hombres</td>\n",
       "      <td>2022</td>\n",
       "      <td>3.230.154</td>\n",
       "    </tr>\n",
       "    <tr>\n",
       "      <th>2</th>\n",
       "      <td>28 Madrid</td>\n",
       "      <td>Mujeres</td>\n",
       "      <td>2022</td>\n",
       "      <td>3.520.182</td>\n",
       "    </tr>\n",
       "    <tr>\n",
       "      <th>3</th>\n",
       "      <td>28001 Acebeda, La</td>\n",
       "      <td>Total</td>\n",
       "      <td>2022</td>\n",
       "      <td>62</td>\n",
       "    </tr>\n",
       "    <tr>\n",
       "      <th>4</th>\n",
       "      <td>28001 Acebeda, La</td>\n",
       "      <td>Hombres</td>\n",
       "      <td>2022</td>\n",
       "      <td>32</td>\n",
       "    </tr>\n",
       "  </tbody>\n",
       "</table>\n",
       "</div>"
      ],
      "text/plain": [
       "          Municipios     Sexo  Periodo      Total\n",
       "0          28 Madrid    Total     2022  6.750.336\n",
       "1          28 Madrid  Hombres     2022  3.230.154\n",
       "2          28 Madrid  Mujeres     2022  3.520.182\n",
       "3  28001 Acebeda, La    Total     2022         62\n",
       "4  28001 Acebeda, La  Hombres     2022         32"
      ]
     },
     "execution_count": 17,
     "metadata": {},
     "output_type": "execute_result"
    }
   ],
   "source": [
    "poblacion.head()"
   ]
  },
  {
   "cell_type": "code",
   "execution_count": 18,
   "id": "488631ae",
   "metadata": {},
   "outputs": [
    {
     "data": {
      "text/html": [
       "<div>\n",
       "<style scoped>\n",
       "    .dataframe tbody tr th:only-of-type {\n",
       "        vertical-align: middle;\n",
       "    }\n",
       "\n",
       "    .dataframe tbody tr th {\n",
       "        vertical-align: top;\n",
       "    }\n",
       "\n",
       "    .dataframe thead th {\n",
       "        text-align: right;\n",
       "    }\n",
       "</style>\n",
       "<table border=\"1\" class=\"dataframe\">\n",
       "  <thead>\n",
       "    <tr style=\"text-align: right;\">\n",
       "      <th></th>\n",
       "      <th>Municipios</th>\n",
       "      <th>Sexo</th>\n",
       "      <th>Periodo</th>\n",
       "      <th>Total</th>\n",
       "    </tr>\n",
       "  </thead>\n",
       "  <tbody>\n",
       "    <tr>\n",
       "      <th>3</th>\n",
       "      <td>28001 Acebeda, La</td>\n",
       "      <td>Total</td>\n",
       "      <td>2022</td>\n",
       "      <td>62</td>\n",
       "    </tr>\n",
       "    <tr>\n",
       "      <th>4</th>\n",
       "      <td>28001 Acebeda, La</td>\n",
       "      <td>Hombres</td>\n",
       "      <td>2022</td>\n",
       "      <td>32</td>\n",
       "    </tr>\n",
       "    <tr>\n",
       "      <th>5</th>\n",
       "      <td>28001 Acebeda, La</td>\n",
       "      <td>Mujeres</td>\n",
       "      <td>2022</td>\n",
       "      <td>30</td>\n",
       "    </tr>\n",
       "    <tr>\n",
       "      <th>6</th>\n",
       "      <td>28002 Ajalvir</td>\n",
       "      <td>Total</td>\n",
       "      <td>2022</td>\n",
       "      <td>4.751</td>\n",
       "    </tr>\n",
       "    <tr>\n",
       "      <th>7</th>\n",
       "      <td>28002 Ajalvir</td>\n",
       "      <td>Hombres</td>\n",
       "      <td>2022</td>\n",
       "      <td>2.473</td>\n",
       "    </tr>\n",
       "  </tbody>\n",
       "</table>\n",
       "</div>"
      ],
      "text/plain": [
       "          Municipios     Sexo  Periodo  Total\n",
       "3  28001 Acebeda, La    Total     2022     62\n",
       "4  28001 Acebeda, La  Hombres     2022     32\n",
       "5  28001 Acebeda, La  Mujeres     2022     30\n",
       "6      28002 Ajalvir    Total     2022  4.751\n",
       "7      28002 Ajalvir  Hombres     2022  2.473"
      ]
     },
     "execution_count": 18,
     "metadata": {},
     "output_type": "execute_result"
    }
   ],
   "source": [
    "#las primeras tres filas, representan los totales de población. Aunque sea un dato importante a priori, pueden distorsionar los datos posteriormente y siempre podremos calcular el total mediante queries, por lo que eliminaremos estas filas. \n",
    "\n",
    "poblacion = poblacion.drop(poblacion.index[:3])\n",
    "\n",
    "poblacion.head()"
   ]
  },
  {
   "cell_type": "code",
   "execution_count": 19,
   "id": "5d6f2f21",
   "metadata": {},
   "outputs": [
    {
     "data": {
      "text/html": [
       "<div>\n",
       "<style scoped>\n",
       "    .dataframe tbody tr th:only-of-type {\n",
       "        vertical-align: middle;\n",
       "    }\n",
       "\n",
       "    .dataframe tbody tr th {\n",
       "        vertical-align: top;\n",
       "    }\n",
       "\n",
       "    .dataframe thead th {\n",
       "        text-align: right;\n",
       "    }\n",
       "</style>\n",
       "<table border=\"1\" class=\"dataframe\">\n",
       "  <thead>\n",
       "    <tr style=\"text-align: right;\">\n",
       "      <th></th>\n",
       "      <th>Municipios</th>\n",
       "      <th>Sexo</th>\n",
       "      <th>Periodo</th>\n",
       "      <th>Total</th>\n",
       "      <th>codigo_postal</th>\n",
       "      <th>nombre_municipio</th>\n",
       "    </tr>\n",
       "  </thead>\n",
       "  <tbody>\n",
       "    <tr>\n",
       "      <th>3</th>\n",
       "      <td>28001 Acebeda, La</td>\n",
       "      <td>Total</td>\n",
       "      <td>2022</td>\n",
       "      <td>62</td>\n",
       "      <td>28001</td>\n",
       "      <td>Acebeda, La</td>\n",
       "    </tr>\n",
       "    <tr>\n",
       "      <th>4</th>\n",
       "      <td>28001 Acebeda, La</td>\n",
       "      <td>Hombres</td>\n",
       "      <td>2022</td>\n",
       "      <td>32</td>\n",
       "      <td>28001</td>\n",
       "      <td>Acebeda, La</td>\n",
       "    </tr>\n",
       "    <tr>\n",
       "      <th>5</th>\n",
       "      <td>28001 Acebeda, La</td>\n",
       "      <td>Mujeres</td>\n",
       "      <td>2022</td>\n",
       "      <td>30</td>\n",
       "      <td>28001</td>\n",
       "      <td>Acebeda, La</td>\n",
       "    </tr>\n",
       "    <tr>\n",
       "      <th>6</th>\n",
       "      <td>28002 Ajalvir</td>\n",
       "      <td>Total</td>\n",
       "      <td>2022</td>\n",
       "      <td>4.751</td>\n",
       "      <td>28002</td>\n",
       "      <td>Ajalvir</td>\n",
       "    </tr>\n",
       "    <tr>\n",
       "      <th>7</th>\n",
       "      <td>28002 Ajalvir</td>\n",
       "      <td>Hombres</td>\n",
       "      <td>2022</td>\n",
       "      <td>2.473</td>\n",
       "      <td>28002</td>\n",
       "      <td>Ajalvir</td>\n",
       "    </tr>\n",
       "  </tbody>\n",
       "</table>\n",
       "</div>"
      ],
      "text/plain": [
       "          Municipios     Sexo  Periodo  Total codigo_postal nombre_municipio\n",
       "3  28001 Acebeda, La    Total     2022     62         28001      Acebeda, La\n",
       "4  28001 Acebeda, La  Hombres     2022     32         28001      Acebeda, La\n",
       "5  28001 Acebeda, La  Mujeres     2022     30         28001      Acebeda, La\n",
       "6      28002 Ajalvir    Total     2022  4.751         28002          Ajalvir\n",
       "7      28002 Ajalvir  Hombres     2022  2.473         28002          Ajalvir"
      ]
     },
     "execution_count": 19,
     "metadata": {},
     "output_type": "execute_result"
    }
   ],
   "source": [
    "#Ahora separaremos la columna municipios en dos columnas, una con el codigo postal y otra con el nombre del Municipio. \n",
    "\n",
    "poblacion['codigo_postal'] = poblacion['Municipios'].str[:5]\n",
    "poblacion['nombre_municipio'] = poblacion['Municipios'].str[5:]\n",
    "\n",
    "poblacion.head()"
   ]
  },
  {
   "cell_type": "code",
   "execution_count": 20,
   "id": "7a2455a5",
   "metadata": {},
   "outputs": [
    {
     "data": {
      "text/html": [
       "<div>\n",
       "<style scoped>\n",
       "    .dataframe tbody tr th:only-of-type {\n",
       "        vertical-align: middle;\n",
       "    }\n",
       "\n",
       "    .dataframe tbody tr th {\n",
       "        vertical-align: top;\n",
       "    }\n",
       "\n",
       "    .dataframe thead th {\n",
       "        text-align: right;\n",
       "    }\n",
       "</style>\n",
       "<table border=\"1\" class=\"dataframe\">\n",
       "  <thead>\n",
       "    <tr style=\"text-align: right;\">\n",
       "      <th></th>\n",
       "      <th>Sexo</th>\n",
       "      <th>Total</th>\n",
       "      <th>Hombres</th>\n",
       "      <th>Mujeres</th>\n",
       "    </tr>\n",
       "    <tr>\n",
       "      <th>codigo_postal</th>\n",
       "      <th>nombre_municipio</th>\n",
       "      <th></th>\n",
       "      <th></th>\n",
       "      <th></th>\n",
       "    </tr>\n",
       "  </thead>\n",
       "  <tbody>\n",
       "    <tr>\n",
       "      <th>28001</th>\n",
       "      <th>Acebeda, La</th>\n",
       "      <td>62</td>\n",
       "      <td>32</td>\n",
       "      <td>30</td>\n",
       "    </tr>\n",
       "    <tr>\n",
       "      <th>28002</th>\n",
       "      <th>Ajalvir</th>\n",
       "      <td>4.751</td>\n",
       "      <td>2.473</td>\n",
       "      <td>2.278</td>\n",
       "    </tr>\n",
       "    <tr>\n",
       "      <th>28003</th>\n",
       "      <th>Alameda del Valle</th>\n",
       "      <td>241</td>\n",
       "      <td>137</td>\n",
       "      <td>104</td>\n",
       "    </tr>\n",
       "    <tr>\n",
       "      <th>28004</th>\n",
       "      <th>Álamo, El</th>\n",
       "      <td>10.123</td>\n",
       "      <td>4.972</td>\n",
       "      <td>5.151</td>\n",
       "    </tr>\n",
       "    <tr>\n",
       "      <th>28005</th>\n",
       "      <th>Alcalá de Henares</th>\n",
       "      <td>196.888</td>\n",
       "      <td>95.472</td>\n",
       "      <td>101.416</td>\n",
       "    </tr>\n",
       "  </tbody>\n",
       "</table>\n",
       "</div>"
      ],
      "text/plain": [
       "Sexo                                Total Hombres  Mujeres\n",
       "codigo_postal nombre_municipio                            \n",
       "28001          Acebeda, La             62      32       30\n",
       "28002          Ajalvir              4.751   2.473    2.278\n",
       "28003          Alameda del Valle      241     137      104\n",
       "28004          Álamo, El           10.123   4.972    5.151\n",
       "28005          Alcalá de Henares  196.888  95.472  101.416"
      ]
     },
     "execution_count": 20,
     "metadata": {},
     "output_type": "execute_result"
    }
   ],
   "source": [
    "#ahora vamos a intentar tener 3 columnas una de total otra de mujer y otra de hombre\n",
    "\n",
    "poblacion_ordenada = poblacion.pivot(index=['codigo_postal', 'nombre_municipio'], columns='Sexo', values='Total')\n",
    "\n",
    "poblacion_ordenada = poblacion_ordenada[['Total', 'Hombres', 'Mujeres']]\n",
    "\n",
    "poblacion = poblacion_ordenada\n",
    "\n",
    "poblacion_ordenada.head()"
   ]
  },
  {
   "cell_type": "code",
   "execution_count": 21,
   "id": "33dee98a",
   "metadata": {},
   "outputs": [
    {
     "data": {
      "text/plain": [
       "Index(['Total', 'Hombres', 'Mujeres'], dtype='object', name='Sexo')"
      ]
     },
     "execution_count": 21,
     "metadata": {},
     "output_type": "execute_result"
    }
   ],
   "source": [
    "poblacion_ordenada.columns\n"
   ]
  },
  {
   "cell_type": "code",
   "execution_count": 22,
   "id": "9bc91e89",
   "metadata": {},
   "outputs": [
    {
     "data": {
      "text/html": [
       "<div>\n",
       "<style scoped>\n",
       "    .dataframe tbody tr th:only-of-type {\n",
       "        vertical-align: middle;\n",
       "    }\n",
       "\n",
       "    .dataframe tbody tr th {\n",
       "        vertical-align: top;\n",
       "    }\n",
       "\n",
       "    .dataframe thead th {\n",
       "        text-align: right;\n",
       "    }\n",
       "</style>\n",
       "<table border=\"1\" class=\"dataframe\">\n",
       "  <thead>\n",
       "    <tr style=\"text-align: right;\">\n",
       "      <th>Sexo</th>\n",
       "      <th>codigo_postal</th>\n",
       "      <th>nombre_municipio</th>\n",
       "      <th>Total</th>\n",
       "      <th>Hombres</th>\n",
       "      <th>Mujeres</th>\n",
       "    </tr>\n",
       "  </thead>\n",
       "  <tbody>\n",
       "    <tr>\n",
       "      <th>0</th>\n",
       "      <td>28001</td>\n",
       "      <td>Acebeda, La</td>\n",
       "      <td>62</td>\n",
       "      <td>32</td>\n",
       "      <td>30</td>\n",
       "    </tr>\n",
       "    <tr>\n",
       "      <th>1</th>\n",
       "      <td>28002</td>\n",
       "      <td>Ajalvir</td>\n",
       "      <td>4.751</td>\n",
       "      <td>2.473</td>\n",
       "      <td>2.278</td>\n",
       "    </tr>\n",
       "    <tr>\n",
       "      <th>2</th>\n",
       "      <td>28003</td>\n",
       "      <td>Alameda del Valle</td>\n",
       "      <td>241</td>\n",
       "      <td>137</td>\n",
       "      <td>104</td>\n",
       "    </tr>\n",
       "    <tr>\n",
       "      <th>3</th>\n",
       "      <td>28004</td>\n",
       "      <td>Álamo, El</td>\n",
       "      <td>10.123</td>\n",
       "      <td>4.972</td>\n",
       "      <td>5.151</td>\n",
       "    </tr>\n",
       "    <tr>\n",
       "      <th>4</th>\n",
       "      <td>28005</td>\n",
       "      <td>Alcalá de Henares</td>\n",
       "      <td>196.888</td>\n",
       "      <td>95.472</td>\n",
       "      <td>101.416</td>\n",
       "    </tr>\n",
       "  </tbody>\n",
       "</table>\n",
       "</div>"
      ],
      "text/plain": [
       "Sexo codigo_postal    nombre_municipio    Total Hombres  Mujeres\n",
       "0            28001         Acebeda, La       62      32       30\n",
       "1            28002             Ajalvir    4.751   2.473    2.278\n",
       "2            28003   Alameda del Valle      241     137      104\n",
       "3            28004           Álamo, El   10.123   4.972    5.151\n",
       "4            28005   Alcalá de Henares  196.888  95.472  101.416"
      ]
     },
     "execution_count": 22,
     "metadata": {},
     "output_type": "execute_result"
    }
   ],
   "source": [
    "\n",
    "poblacion_ordenada = poblacion_ordenada.reset_index()\n",
    "\n",
    "poblacion_ordenada.head()"
   ]
  },
  {
   "cell_type": "code",
   "execution_count": 23,
   "id": "63782ad9",
   "metadata": {},
   "outputs": [
    {
     "data": {
      "text/plain": [
       "Index(['codigo_postal', 'nombre_municipio', 'Total', 'Hombres', 'Mujeres'], dtype='object', name='Sexo')"
      ]
     },
     "execution_count": 23,
     "metadata": {},
     "output_type": "execute_result"
    }
   ],
   "source": [
    "poblacion_ordenada.columns"
   ]
  },
  {
   "cell_type": "code",
   "execution_count": 24,
   "id": "71e3ab32",
   "metadata": {},
   "outputs": [],
   "source": [
    "poblacion_ordenada.rename_axis(index={\"Sexo\": \"Indice\"}, inplace=True)"
   ]
  },
  {
   "cell_type": "code",
   "execution_count": 25,
   "id": "6a0963c9",
   "metadata": {},
   "outputs": [
    {
     "data": {
      "text/html": [
       "<div>\n",
       "<style scoped>\n",
       "    .dataframe tbody tr th:only-of-type {\n",
       "        vertical-align: middle;\n",
       "    }\n",
       "\n",
       "    .dataframe tbody tr th {\n",
       "        vertical-align: top;\n",
       "    }\n",
       "\n",
       "    .dataframe thead th {\n",
       "        text-align: right;\n",
       "    }\n",
       "</style>\n",
       "<table border=\"1\" class=\"dataframe\">\n",
       "  <thead>\n",
       "    <tr style=\"text-align: right;\">\n",
       "      <th>Sexo</th>\n",
       "      <th>codigo_postal</th>\n",
       "      <th>nombre_municipio</th>\n",
       "      <th>Total</th>\n",
       "      <th>Hombres</th>\n",
       "      <th>Mujeres</th>\n",
       "    </tr>\n",
       "  </thead>\n",
       "  <tbody>\n",
       "    <tr>\n",
       "      <th>0</th>\n",
       "      <td>28001</td>\n",
       "      <td>Acebeda, La</td>\n",
       "      <td>62</td>\n",
       "      <td>32</td>\n",
       "      <td>30</td>\n",
       "    </tr>\n",
       "    <tr>\n",
       "      <th>1</th>\n",
       "      <td>28002</td>\n",
       "      <td>Ajalvir</td>\n",
       "      <td>4.751</td>\n",
       "      <td>2.473</td>\n",
       "      <td>2.278</td>\n",
       "    </tr>\n",
       "    <tr>\n",
       "      <th>2</th>\n",
       "      <td>28003</td>\n",
       "      <td>Alameda del Valle</td>\n",
       "      <td>241</td>\n",
       "      <td>137</td>\n",
       "      <td>104</td>\n",
       "    </tr>\n",
       "    <tr>\n",
       "      <th>3</th>\n",
       "      <td>28004</td>\n",
       "      <td>Álamo, El</td>\n",
       "      <td>10.123</td>\n",
       "      <td>4.972</td>\n",
       "      <td>5.151</td>\n",
       "    </tr>\n",
       "    <tr>\n",
       "      <th>4</th>\n",
       "      <td>28005</td>\n",
       "      <td>Alcalá de Henares</td>\n",
       "      <td>196.888</td>\n",
       "      <td>95.472</td>\n",
       "      <td>101.416</td>\n",
       "    </tr>\n",
       "  </tbody>\n",
       "</table>\n",
       "</div>"
      ],
      "text/plain": [
       "Sexo codigo_postal    nombre_municipio    Total Hombres  Mujeres\n",
       "0            28001         Acebeda, La       62      32       30\n",
       "1            28002             Ajalvir    4.751   2.473    2.278\n",
       "2            28003   Alameda del Valle      241     137      104\n",
       "3            28004           Álamo, El   10.123   4.972    5.151\n",
       "4            28005   Alcalá de Henares  196.888  95.472  101.416"
      ]
     },
     "execution_count": 25,
     "metadata": {},
     "output_type": "execute_result"
    }
   ],
   "source": [
    "poblacion_ordenada.head()"
   ]
  },
  {
   "cell_type": "code",
   "execution_count": 26,
   "id": "7e64ee9b",
   "metadata": {},
   "outputs": [
    {
     "data": {
      "text/plain": [
       "Index(['codigo_postal', 'nombre_municipio', 'Total', 'Hombres', 'Mujeres'], dtype='object', name='Sexo')"
      ]
     },
     "execution_count": 26,
     "metadata": {},
     "output_type": "execute_result"
    }
   ],
   "source": [
    "poblacion_ordenada.columns"
   ]
  },
  {
   "cell_type": "code",
   "execution_count": 27,
   "id": "c1620881",
   "metadata": {},
   "outputs": [],
   "source": [
    "poblacion_ordenada.rename_axis(index=None, inplace=True)"
   ]
  },
  {
   "cell_type": "code",
   "execution_count": 28,
   "id": "7cb2ae83",
   "metadata": {},
   "outputs": [
    {
     "data": {
      "text/html": [
       "<div>\n",
       "<style scoped>\n",
       "    .dataframe tbody tr th:only-of-type {\n",
       "        vertical-align: middle;\n",
       "    }\n",
       "\n",
       "    .dataframe tbody tr th {\n",
       "        vertical-align: top;\n",
       "    }\n",
       "\n",
       "    .dataframe thead th {\n",
       "        text-align: right;\n",
       "    }\n",
       "</style>\n",
       "<table border=\"1\" class=\"dataframe\">\n",
       "  <thead>\n",
       "    <tr style=\"text-align: right;\">\n",
       "      <th>Sexo</th>\n",
       "      <th>codigo_postal</th>\n",
       "      <th>nombre_municipio</th>\n",
       "      <th>Total</th>\n",
       "      <th>Hombres</th>\n",
       "      <th>Mujeres</th>\n",
       "    </tr>\n",
       "  </thead>\n",
       "  <tbody>\n",
       "    <tr>\n",
       "      <th>0</th>\n",
       "      <td>28001</td>\n",
       "      <td>Acebeda, La</td>\n",
       "      <td>62</td>\n",
       "      <td>32</td>\n",
       "      <td>30</td>\n",
       "    </tr>\n",
       "    <tr>\n",
       "      <th>1</th>\n",
       "      <td>28002</td>\n",
       "      <td>Ajalvir</td>\n",
       "      <td>4.751</td>\n",
       "      <td>2.473</td>\n",
       "      <td>2.278</td>\n",
       "    </tr>\n",
       "    <tr>\n",
       "      <th>2</th>\n",
       "      <td>28003</td>\n",
       "      <td>Alameda del Valle</td>\n",
       "      <td>241</td>\n",
       "      <td>137</td>\n",
       "      <td>104</td>\n",
       "    </tr>\n",
       "    <tr>\n",
       "      <th>3</th>\n",
       "      <td>28004</td>\n",
       "      <td>Álamo, El</td>\n",
       "      <td>10.123</td>\n",
       "      <td>4.972</td>\n",
       "      <td>5.151</td>\n",
       "    </tr>\n",
       "    <tr>\n",
       "      <th>4</th>\n",
       "      <td>28005</td>\n",
       "      <td>Alcalá de Henares</td>\n",
       "      <td>196.888</td>\n",
       "      <td>95.472</td>\n",
       "      <td>101.416</td>\n",
       "    </tr>\n",
       "  </tbody>\n",
       "</table>\n",
       "</div>"
      ],
      "text/plain": [
       "Sexo codigo_postal    nombre_municipio    Total Hombres  Mujeres\n",
       "0            28001         Acebeda, La       62      32       30\n",
       "1            28002             Ajalvir    4.751   2.473    2.278\n",
       "2            28003   Alameda del Valle      241     137      104\n",
       "3            28004           Álamo, El   10.123   4.972    5.151\n",
       "4            28005   Alcalá de Henares  196.888  95.472  101.416"
      ]
     },
     "execution_count": 28,
     "metadata": {},
     "output_type": "execute_result"
    }
   ],
   "source": [
    "poblacion_ordenada.head()"
   ]
  },
  {
   "cell_type": "code",
   "execution_count": 29,
   "id": "bddff2cd",
   "metadata": {},
   "outputs": [],
   "source": [
    "poblacion_ordenada.reset_index(drop=True, inplace=True)"
   ]
  },
  {
   "cell_type": "code",
   "execution_count": 30,
   "id": "c0e1fae8",
   "metadata": {},
   "outputs": [
    {
     "data": {
      "text/html": [
       "<div>\n",
       "<style scoped>\n",
       "    .dataframe tbody tr th:only-of-type {\n",
       "        vertical-align: middle;\n",
       "    }\n",
       "\n",
       "    .dataframe tbody tr th {\n",
       "        vertical-align: top;\n",
       "    }\n",
       "\n",
       "    .dataframe thead th {\n",
       "        text-align: right;\n",
       "    }\n",
       "</style>\n",
       "<table border=\"1\" class=\"dataframe\">\n",
       "  <thead>\n",
       "    <tr style=\"text-align: right;\">\n",
       "      <th>Sexo</th>\n",
       "      <th>codigo_postal</th>\n",
       "      <th>nombre_municipio</th>\n",
       "      <th>Total</th>\n",
       "      <th>Hombres</th>\n",
       "      <th>Mujeres</th>\n",
       "    </tr>\n",
       "  </thead>\n",
       "  <tbody>\n",
       "    <tr>\n",
       "      <th>0</th>\n",
       "      <td>28001</td>\n",
       "      <td>Acebeda, La</td>\n",
       "      <td>62</td>\n",
       "      <td>32</td>\n",
       "      <td>30</td>\n",
       "    </tr>\n",
       "    <tr>\n",
       "      <th>1</th>\n",
       "      <td>28002</td>\n",
       "      <td>Ajalvir</td>\n",
       "      <td>4.751</td>\n",
       "      <td>2.473</td>\n",
       "      <td>2.278</td>\n",
       "    </tr>\n",
       "    <tr>\n",
       "      <th>2</th>\n",
       "      <td>28003</td>\n",
       "      <td>Alameda del Valle</td>\n",
       "      <td>241</td>\n",
       "      <td>137</td>\n",
       "      <td>104</td>\n",
       "    </tr>\n",
       "    <tr>\n",
       "      <th>3</th>\n",
       "      <td>28004</td>\n",
       "      <td>Álamo, El</td>\n",
       "      <td>10.123</td>\n",
       "      <td>4.972</td>\n",
       "      <td>5.151</td>\n",
       "    </tr>\n",
       "    <tr>\n",
       "      <th>4</th>\n",
       "      <td>28005</td>\n",
       "      <td>Alcalá de Henares</td>\n",
       "      <td>196.888</td>\n",
       "      <td>95.472</td>\n",
       "      <td>101.416</td>\n",
       "    </tr>\n",
       "  </tbody>\n",
       "</table>\n",
       "</div>"
      ],
      "text/plain": [
       "Sexo codigo_postal    nombre_municipio    Total Hombres  Mujeres\n",
       "0            28001         Acebeda, La       62      32       30\n",
       "1            28002             Ajalvir    4.751   2.473    2.278\n",
       "2            28003   Alameda del Valle      241     137      104\n",
       "3            28004           Álamo, El   10.123   4.972    5.151\n",
       "4            28005   Alcalá de Henares  196.888  95.472  101.416"
      ]
     },
     "execution_count": 30,
     "metadata": {},
     "output_type": "execute_result"
    }
   ],
   "source": [
    "poblacion_ordenada.head()"
   ]
  },
  {
   "cell_type": "code",
   "execution_count": 31,
   "id": "f5da2f56",
   "metadata": {},
   "outputs": [
    {
     "data": {
      "text/plain": [
       "(179, 5)"
      ]
     },
     "execution_count": 31,
     "metadata": {},
     "output_type": "execute_result"
    }
   ],
   "source": [
    "poblacion_ordenada.shape"
   ]
  },
  {
   "cell_type": "code",
   "execution_count": 32,
   "id": "461b6174",
   "metadata": {},
   "outputs": [],
   "source": [
    "cpmadrid_ori = pd.read_csv('../ETL-Project/data/cp_madrid.csv',\n",
    "                                  encoding = 'latin1', on_bad_lines='skip',sep=',')\n",
    "\n",
    "cpmadrid = cpmadrid_ori.copy()"
   ]
  },
  {
   "cell_type": "code",
   "execution_count": 33,
   "id": "724539be",
   "metadata": {},
   "outputs": [
    {
     "data": {
      "text/plain": [
       "(295, 4)"
      ]
     },
     "execution_count": 33,
     "metadata": {},
     "output_type": "execute_result"
    }
   ],
   "source": [
    "cpmadrid.shape"
   ]
  },
  {
   "cell_type": "code",
   "execution_count": 34,
   "id": "bacf48e2",
   "metadata": {},
   "outputs": [
    {
     "data": {
      "text/html": [
       "<div>\n",
       "<style scoped>\n",
       "    .dataframe tbody tr th:only-of-type {\n",
       "        vertical-align: middle;\n",
       "    }\n",
       "\n",
       "    .dataframe tbody tr th {\n",
       "        vertical-align: top;\n",
       "    }\n",
       "\n",
       "    .dataframe thead th {\n",
       "        text-align: right;\n",
       "    }\n",
       "</style>\n",
       "<table border=\"1\" class=\"dataframe\">\n",
       "  <thead>\n",
       "    <tr style=\"text-align: right;\">\n",
       "      <th></th>\n",
       "      <th>codigo_postal</th>\n",
       "      <th>nombre_del_lugar_del_cÃ³digo_postal</th>\n",
       "      <th>comunidad_autÃ³noma</th>\n",
       "      <th>provincia</th>\n",
       "    </tr>\n",
       "  </thead>\n",
       "  <tbody>\n",
       "    <tr>\n",
       "      <th>0</th>\n",
       "      <td>28001</td>\n",
       "      <td>Madrid</td>\n",
       "      <td>Comunidad de Madrid</td>\n",
       "      <td>Comunidad de Madrid</td>\n",
       "    </tr>\n",
       "    <tr>\n",
       "      <th>1</th>\n",
       "      <td>28002</td>\n",
       "      <td>Madrid</td>\n",
       "      <td>Comunidad de Madrid</td>\n",
       "      <td>Comunidad de Madrid</td>\n",
       "    </tr>\n",
       "    <tr>\n",
       "      <th>2</th>\n",
       "      <td>28003</td>\n",
       "      <td>Madrid</td>\n",
       "      <td>Comunidad de Madrid</td>\n",
       "      <td>Comunidad de Madrid</td>\n",
       "    </tr>\n",
       "    <tr>\n",
       "      <th>3</th>\n",
       "      <td>28004</td>\n",
       "      <td>Madrid</td>\n",
       "      <td>Comunidad de Madrid</td>\n",
       "      <td>Comunidad de Madrid</td>\n",
       "    </tr>\n",
       "    <tr>\n",
       "      <th>4</th>\n",
       "      <td>28005</td>\n",
       "      <td>Madrid</td>\n",
       "      <td>Comunidad de Madrid</td>\n",
       "      <td>Comunidad de Madrid</td>\n",
       "    </tr>\n",
       "  </tbody>\n",
       "</table>\n",
       "</div>"
      ],
      "text/plain": [
       "   codigo_postal nombre_del_lugar_del_cÃ³digo_postal  comunidad_autÃ³noma  \\\n",
       "0          28001                              Madrid  Comunidad de Madrid   \n",
       "1          28002                              Madrid  Comunidad de Madrid   \n",
       "2          28003                              Madrid  Comunidad de Madrid   \n",
       "3          28004                              Madrid  Comunidad de Madrid   \n",
       "4          28005                              Madrid  Comunidad de Madrid   \n",
       "\n",
       "             provincia  \n",
       "0  Comunidad de Madrid  \n",
       "1  Comunidad de Madrid  \n",
       "2  Comunidad de Madrid  \n",
       "3  Comunidad de Madrid  \n",
       "4  Comunidad de Madrid  "
      ]
     },
     "execution_count": 34,
     "metadata": {},
     "output_type": "execute_result"
    }
   ],
   "source": [
    "cpmadrid.head()"
   ]
  },
  {
   "cell_type": "code",
   "execution_count": 35,
   "id": "6824e877",
   "metadata": {},
   "outputs": [
    {
     "name": "stdout",
     "output_type": "stream",
     "text": [
      "<class 'pandas.core.frame.DataFrame'>\n",
      "RangeIndex: 295 entries, 0 to 294\n",
      "Data columns (total 4 columns):\n",
      " #   Column                               Non-Null Count  Dtype \n",
      "---  ------                               --------------  ----- \n",
      " 0   codigo_postal                        295 non-null    int64 \n",
      " 1   nombre_del_lugar_del_cÃ³digo_postal  295 non-null    object\n",
      " 2   comunidad_autÃ³noma                  295 non-null    object\n",
      " 3   provincia                            295 non-null    object\n",
      "dtypes: int64(1), object(3)\n",
      "memory usage: 67.9 KB\n"
     ]
    }
   ],
   "source": [
    "cpmadrid.info(memory_usage='deep')"
   ]
  },
  {
   "cell_type": "code",
   "execution_count": 36,
   "id": "08a6c30a",
   "metadata": {},
   "outputs": [
    {
     "name": "stdout",
     "output_type": "stream",
     "text": [
      "<class 'pandas.core.frame.DataFrame'>\n",
      "RangeIndex: 179 entries, 0 to 178\n",
      "Data columns (total 5 columns):\n",
      " #   Column            Non-Null Count  Dtype \n",
      "---  ------            --------------  ----- \n",
      " 0   codigo_postal     179 non-null    object\n",
      " 1   nombre_municipio  179 non-null    object\n",
      " 2   Total             179 non-null    object\n",
      " 3   Hombres           179 non-null    object\n",
      " 4   Mujeres           179 non-null    object\n",
      "dtypes: object(5)\n",
      "memory usage: 57.4 KB\n"
     ]
    }
   ],
   "source": [
    "poblacion_ordenada.info(memory_usage='deep')"
   ]
  },
  {
   "cell_type": "code",
   "execution_count": 37,
   "id": "402b723f",
   "metadata": {},
   "outputs": [],
   "source": [
    "poblacion_ordenada['codigo_postal'] = poblacion_ordenada['codigo_postal'].astype(int)\n",
    "\n",
    "poblacion_completa = poblacion_ordenada.merge(cpmadrid, left_on='codigo_postal', right_on='codigo_postal', how='left')"
   ]
  },
  {
   "cell_type": "code",
   "execution_count": 38,
   "id": "a1d4a102",
   "metadata": {},
   "outputs": [
    {
     "data": {
      "text/html": [
       "<div>\n",
       "<style scoped>\n",
       "    .dataframe tbody tr th:only-of-type {\n",
       "        vertical-align: middle;\n",
       "    }\n",
       "\n",
       "    .dataframe tbody tr th {\n",
       "        vertical-align: top;\n",
       "    }\n",
       "\n",
       "    .dataframe thead th {\n",
       "        text-align: right;\n",
       "    }\n",
       "</style>\n",
       "<table border=\"1\" class=\"dataframe\">\n",
       "  <thead>\n",
       "    <tr style=\"text-align: right;\">\n",
       "      <th></th>\n",
       "      <th>codigo_postal</th>\n",
       "      <th>nombre_municipio</th>\n",
       "      <th>Total</th>\n",
       "      <th>Hombres</th>\n",
       "      <th>Mujeres</th>\n",
       "      <th>nombre_del_lugar_del_cÃ³digo_postal</th>\n",
       "      <th>comunidad_autÃ³noma</th>\n",
       "      <th>provincia</th>\n",
       "    </tr>\n",
       "  </thead>\n",
       "  <tbody>\n",
       "    <tr>\n",
       "      <th>0</th>\n",
       "      <td>28001</td>\n",
       "      <td>Acebeda, La</td>\n",
       "      <td>62</td>\n",
       "      <td>32</td>\n",
       "      <td>30</td>\n",
       "      <td>Madrid</td>\n",
       "      <td>Comunidad de Madrid</td>\n",
       "      <td>Comunidad de Madrid</td>\n",
       "    </tr>\n",
       "    <tr>\n",
       "      <th>1</th>\n",
       "      <td>28002</td>\n",
       "      <td>Ajalvir</td>\n",
       "      <td>4.751</td>\n",
       "      <td>2.473</td>\n",
       "      <td>2.278</td>\n",
       "      <td>Madrid</td>\n",
       "      <td>Comunidad de Madrid</td>\n",
       "      <td>Comunidad de Madrid</td>\n",
       "    </tr>\n",
       "    <tr>\n",
       "      <th>2</th>\n",
       "      <td>28003</td>\n",
       "      <td>Alameda del Valle</td>\n",
       "      <td>241</td>\n",
       "      <td>137</td>\n",
       "      <td>104</td>\n",
       "      <td>Madrid</td>\n",
       "      <td>Comunidad de Madrid</td>\n",
       "      <td>Comunidad de Madrid</td>\n",
       "    </tr>\n",
       "    <tr>\n",
       "      <th>3</th>\n",
       "      <td>28004</td>\n",
       "      <td>Álamo, El</td>\n",
       "      <td>10.123</td>\n",
       "      <td>4.972</td>\n",
       "      <td>5.151</td>\n",
       "      <td>Madrid</td>\n",
       "      <td>Comunidad de Madrid</td>\n",
       "      <td>Comunidad de Madrid</td>\n",
       "    </tr>\n",
       "    <tr>\n",
       "      <th>4</th>\n",
       "      <td>28005</td>\n",
       "      <td>Alcalá de Henares</td>\n",
       "      <td>196.888</td>\n",
       "      <td>95.472</td>\n",
       "      <td>101.416</td>\n",
       "      <td>Madrid</td>\n",
       "      <td>Comunidad de Madrid</td>\n",
       "      <td>Comunidad de Madrid</td>\n",
       "    </tr>\n",
       "  </tbody>\n",
       "</table>\n",
       "</div>"
      ],
      "text/plain": [
       "   codigo_postal    nombre_municipio    Total Hombres  Mujeres  \\\n",
       "0          28001         Acebeda, La       62      32       30   \n",
       "1          28002             Ajalvir    4.751   2.473    2.278   \n",
       "2          28003   Alameda del Valle      241     137      104   \n",
       "3          28004           Álamo, El   10.123   4.972    5.151   \n",
       "4          28005   Alcalá de Henares  196.888  95.472  101.416   \n",
       "\n",
       "  nombre_del_lugar_del_cÃ³digo_postal  comunidad_autÃ³noma  \\\n",
       "0                              Madrid  Comunidad de Madrid   \n",
       "1                              Madrid  Comunidad de Madrid   \n",
       "2                              Madrid  Comunidad de Madrid   \n",
       "3                              Madrid  Comunidad de Madrid   \n",
       "4                              Madrid  Comunidad de Madrid   \n",
       "\n",
       "             provincia  \n",
       "0  Comunidad de Madrid  \n",
       "1  Comunidad de Madrid  \n",
       "2  Comunidad de Madrid  \n",
       "3  Comunidad de Madrid  \n",
       "4  Comunidad de Madrid  "
      ]
     },
     "execution_count": 38,
     "metadata": {},
     "output_type": "execute_result"
    }
   ],
   "source": [
    "poblacion_completa.head()"
   ]
  },
  {
   "cell_type": "code",
   "execution_count": 39,
   "id": "be74013d",
   "metadata": {},
   "outputs": [
    {
     "data": {
      "text/html": [
       "<div>\n",
       "<style scoped>\n",
       "    .dataframe tbody tr th:only-of-type {\n",
       "        vertical-align: middle;\n",
       "    }\n",
       "\n",
       "    .dataframe tbody tr th {\n",
       "        vertical-align: top;\n",
       "    }\n",
       "\n",
       "    .dataframe thead th {\n",
       "        text-align: right;\n",
       "    }\n",
       "</style>\n",
       "<table border=\"1\" class=\"dataframe\">\n",
       "  <thead>\n",
       "    <tr style=\"text-align: right;\">\n",
       "      <th></th>\n",
       "      <th>codigo_postal</th>\n",
       "      <th>nombre_municipio</th>\n",
       "      <th>total</th>\n",
       "      <th>hombres</th>\n",
       "      <th>mujeres</th>\n",
       "      <th>nombre_del_lugar_del_cã³digo_postal</th>\n",
       "      <th>comunidad_autã³noma</th>\n",
       "      <th>provincia</th>\n",
       "    </tr>\n",
       "  </thead>\n",
       "  <tbody>\n",
       "    <tr>\n",
       "      <th>0</th>\n",
       "      <td>28001</td>\n",
       "      <td>Acebeda, La</td>\n",
       "      <td>62</td>\n",
       "      <td>32</td>\n",
       "      <td>30</td>\n",
       "      <td>Madrid</td>\n",
       "      <td>Comunidad de Madrid</td>\n",
       "      <td>Comunidad de Madrid</td>\n",
       "    </tr>\n",
       "  </tbody>\n",
       "</table>\n",
       "</div>"
      ],
      "text/plain": [
       "   codigo_postal nombre_municipio total hombres mujeres  \\\n",
       "0          28001      Acebeda, La    62      32      30   \n",
       "\n",
       "  nombre_del_lugar_del_cã³digo_postal  comunidad_autã³noma  \\\n",
       "0                              Madrid  Comunidad de Madrid   \n",
       "\n",
       "             provincia  \n",
       "0  Comunidad de Madrid  "
      ]
     },
     "execution_count": 39,
     "metadata": {},
     "output_type": "execute_result"
    }
   ],
   "source": [
    "poblacion_completa.columns = [e.lower(). replace(' ', '_') for e in poblacion_completa]\n",
    "\n",
    "poblacion_completa.head(1)"
   ]
  },
  {
   "cell_type": "code",
   "execution_count": 40,
   "id": "e5397c03",
   "metadata": {},
   "outputs": [],
   "source": [
    "poblacion_completa.drop(poblacion_completa.columns[-3:], axis=1, inplace=True)"
   ]
  },
  {
   "cell_type": "code",
   "execution_count": 41,
   "id": "073c0220",
   "metadata": {},
   "outputs": [
    {
     "data": {
      "text/html": [
       "<div>\n",
       "<style scoped>\n",
       "    .dataframe tbody tr th:only-of-type {\n",
       "        vertical-align: middle;\n",
       "    }\n",
       "\n",
       "    .dataframe tbody tr th {\n",
       "        vertical-align: top;\n",
       "    }\n",
       "\n",
       "    .dataframe thead th {\n",
       "        text-align: right;\n",
       "    }\n",
       "</style>\n",
       "<table border=\"1\" class=\"dataframe\">\n",
       "  <thead>\n",
       "    <tr style=\"text-align: right;\">\n",
       "      <th></th>\n",
       "      <th>codigo_postal</th>\n",
       "      <th>nombre_municipio</th>\n",
       "      <th>total</th>\n",
       "      <th>hombres</th>\n",
       "      <th>mujeres</th>\n",
       "    </tr>\n",
       "  </thead>\n",
       "  <tbody>\n",
       "    <tr>\n",
       "      <th>0</th>\n",
       "      <td>28001</td>\n",
       "      <td>Acebeda, La</td>\n",
       "      <td>62</td>\n",
       "      <td>32</td>\n",
       "      <td>30</td>\n",
       "    </tr>\n",
       "  </tbody>\n",
       "</table>\n",
       "</div>"
      ],
      "text/plain": [
       "   codigo_postal nombre_municipio total hombres mujeres\n",
       "0          28001      Acebeda, La    62      32      30"
      ]
     },
     "execution_count": 41,
     "metadata": {},
     "output_type": "execute_result"
    }
   ],
   "source": [
    "poblacion_completa.head(1)"
   ]
  },
  {
   "cell_type": "code",
   "execution_count": 42,
   "id": "db0fcfaf",
   "metadata": {},
   "outputs": [
    {
     "data": {
      "text/plain": [
       "(179, 5)"
      ]
     },
     "execution_count": 42,
     "metadata": {},
     "output_type": "execute_result"
    }
   ],
   "source": [
    "poblacion_completa.shape"
   ]
  },
  {
   "cell_type": "code",
   "execution_count": 43,
   "id": "01b32c84",
   "metadata": {},
   "outputs": [
    {
     "name": "stdout",
     "output_type": "stream",
     "text": [
      "<class 'pandas.core.frame.DataFrame'>\n",
      "Int64Index: 179 entries, 0 to 178\n",
      "Data columns (total 5 columns):\n",
      " #   Column            Non-Null Count  Dtype \n",
      "---  ------            --------------  ----- \n",
      " 0   codigo_postal     179 non-null    int32 \n",
      " 1   nombre_municipio  179 non-null    object\n",
      " 2   total             179 non-null    object\n",
      " 3   hombres           179 non-null    object\n",
      " 4   mujeres           179 non-null    object\n",
      "dtypes: int32(1), object(4)\n",
      "memory usage: 48.5 KB\n"
     ]
    }
   ],
   "source": [
    "poblacion_completa.info(memory_usage='deep')"
   ]
  },
  {
   "cell_type": "code",
   "execution_count": 44,
   "id": "0821eb71",
   "metadata": {},
   "outputs": [
    {
     "data": {
      "text/html": [
       "<div>\n",
       "<style scoped>\n",
       "    .dataframe tbody tr th:only-of-type {\n",
       "        vertical-align: middle;\n",
       "    }\n",
       "\n",
       "    .dataframe tbody tr th {\n",
       "        vertical-align: top;\n",
       "    }\n",
       "\n",
       "    .dataframe thead th {\n",
       "        text-align: right;\n",
       "    }\n",
       "</style>\n",
       "<table border=\"1\" class=\"dataframe\">\n",
       "  <thead>\n",
       "    <tr style=\"text-align: right;\">\n",
       "      <th></th>\n",
       "      <th>codigo_postal</th>\n",
       "      <th>nombre_municipio</th>\n",
       "      <th>total</th>\n",
       "      <th>hombres</th>\n",
       "      <th>mujeres</th>\n",
       "    </tr>\n",
       "  </thead>\n",
       "  <tbody>\n",
       "    <tr>\n",
       "      <th>0</th>\n",
       "      <td>28001</td>\n",
       "      <td>Acebeda, La</td>\n",
       "      <td>62</td>\n",
       "      <td>32</td>\n",
       "      <td>30</td>\n",
       "    </tr>\n",
       "    <tr>\n",
       "      <th>1</th>\n",
       "      <td>28002</td>\n",
       "      <td>Ajalvir</td>\n",
       "      <td>4.751</td>\n",
       "      <td>2.473</td>\n",
       "      <td>2.278</td>\n",
       "    </tr>\n",
       "    <tr>\n",
       "      <th>2</th>\n",
       "      <td>28003</td>\n",
       "      <td>Alameda del Valle</td>\n",
       "      <td>241</td>\n",
       "      <td>137</td>\n",
       "      <td>104</td>\n",
       "    </tr>\n",
       "    <tr>\n",
       "      <th>3</th>\n",
       "      <td>28004</td>\n",
       "      <td>Álamo, El</td>\n",
       "      <td>10.123</td>\n",
       "      <td>4.972</td>\n",
       "      <td>5.151</td>\n",
       "    </tr>\n",
       "    <tr>\n",
       "      <th>4</th>\n",
       "      <td>28005</td>\n",
       "      <td>Alcalá de Henares</td>\n",
       "      <td>196.888</td>\n",
       "      <td>95.472</td>\n",
       "      <td>101.416</td>\n",
       "    </tr>\n",
       "  </tbody>\n",
       "</table>\n",
       "</div>"
      ],
      "text/plain": [
       "   codigo_postal    nombre_municipio    total hombres  mujeres\n",
       "0          28001         Acebeda, La       62      32       30\n",
       "1          28002             Ajalvir    4.751   2.473    2.278\n",
       "2          28003   Alameda del Valle      241     137      104\n",
       "3          28004           Álamo, El   10.123   4.972    5.151\n",
       "4          28005   Alcalá de Henares  196.888  95.472  101.416"
      ]
     },
     "execution_count": 44,
     "metadata": {},
     "output_type": "execute_result"
    }
   ],
   "source": [
    "poblacion_completa.head()"
   ]
  },
  {
   "cell_type": "code",
   "execution_count": 45,
   "id": "3c99d980",
   "metadata": {},
   "outputs": [],
   "source": [
    "poblacion_completa['total'] = poblacion_completa['total'].str.replace('.', '')"
   ]
  },
  {
   "cell_type": "code",
   "execution_count": 47,
   "id": "af765e5f",
   "metadata": {},
   "outputs": [],
   "source": [
    "poblacion_completa['hombres'] = poblacion_completa['hombres'].str.replace('.', '')"
   ]
  },
  {
   "cell_type": "code",
   "execution_count": 48,
   "id": "65334b77",
   "metadata": {},
   "outputs": [],
   "source": [
    "poblacion_completa['mujeres'] = poblacion_completa['mujeres'].str.replace('.', '')"
   ]
  },
  {
   "cell_type": "code",
   "execution_count": 49,
   "id": "7d370fc7",
   "metadata": {},
   "outputs": [
    {
     "data": {
      "text/html": [
       "<div>\n",
       "<style scoped>\n",
       "    .dataframe tbody tr th:only-of-type {\n",
       "        vertical-align: middle;\n",
       "    }\n",
       "\n",
       "    .dataframe tbody tr th {\n",
       "        vertical-align: top;\n",
       "    }\n",
       "\n",
       "    .dataframe thead th {\n",
       "        text-align: right;\n",
       "    }\n",
       "</style>\n",
       "<table border=\"1\" class=\"dataframe\">\n",
       "  <thead>\n",
       "    <tr style=\"text-align: right;\">\n",
       "      <th></th>\n",
       "      <th>codigo_postal</th>\n",
       "      <th>nombre_municipio</th>\n",
       "      <th>total</th>\n",
       "      <th>hombres</th>\n",
       "      <th>mujeres</th>\n",
       "    </tr>\n",
       "  </thead>\n",
       "  <tbody>\n",
       "    <tr>\n",
       "      <th>0</th>\n",
       "      <td>28001</td>\n",
       "      <td>Acebeda, La</td>\n",
       "      <td>62</td>\n",
       "      <td>32</td>\n",
       "      <td>30</td>\n",
       "    </tr>\n",
       "    <tr>\n",
       "      <th>1</th>\n",
       "      <td>28002</td>\n",
       "      <td>Ajalvir</td>\n",
       "      <td>4751</td>\n",
       "      <td>2473</td>\n",
       "      <td>2278</td>\n",
       "    </tr>\n",
       "    <tr>\n",
       "      <th>2</th>\n",
       "      <td>28003</td>\n",
       "      <td>Alameda del Valle</td>\n",
       "      <td>241</td>\n",
       "      <td>137</td>\n",
       "      <td>104</td>\n",
       "    </tr>\n",
       "    <tr>\n",
       "      <th>3</th>\n",
       "      <td>28004</td>\n",
       "      <td>Álamo, El</td>\n",
       "      <td>10123</td>\n",
       "      <td>4972</td>\n",
       "      <td>5151</td>\n",
       "    </tr>\n",
       "    <tr>\n",
       "      <th>4</th>\n",
       "      <td>28005</td>\n",
       "      <td>Alcalá de Henares</td>\n",
       "      <td>196888</td>\n",
       "      <td>95472</td>\n",
       "      <td>101416</td>\n",
       "    </tr>\n",
       "  </tbody>\n",
       "</table>\n",
       "</div>"
      ],
      "text/plain": [
       "   codigo_postal    nombre_municipio   total hombres mujeres\n",
       "0          28001         Acebeda, La      62      32      30\n",
       "1          28002             Ajalvir    4751    2473    2278\n",
       "2          28003   Alameda del Valle     241     137     104\n",
       "3          28004           Álamo, El   10123    4972    5151\n",
       "4          28005   Alcalá de Henares  196888   95472  101416"
      ]
     },
     "execution_count": 49,
     "metadata": {},
     "output_type": "execute_result"
    }
   ],
   "source": [
    "poblacion_completa.head()"
   ]
  },
  {
   "cell_type": "code",
   "execution_count": 50,
   "id": "3d067ff6",
   "metadata": {},
   "outputs": [],
   "source": [
    "cols = ['total', 'hombres', 'mujeres']\n",
    "poblacion_completa[cols] = poblacion_completa[cols].astype(int)"
   ]
  },
  {
   "cell_type": "code",
   "execution_count": 51,
   "id": "6e518d3d",
   "metadata": {},
   "outputs": [
    {
     "name": "stdout",
     "output_type": "stream",
     "text": [
      "<class 'pandas.core.frame.DataFrame'>\n",
      "Int64Index: 179 entries, 0 to 178\n",
      "Data columns (total 5 columns):\n",
      " #   Column            Non-Null Count  Dtype \n",
      "---  ------            --------------  ----- \n",
      " 0   codigo_postal     179 non-null    int32 \n",
      " 1   nombre_municipio  179 non-null    object\n",
      " 2   total             179 non-null    int32 \n",
      " 3   hombres           179 non-null    int32 \n",
      " 4   mujeres           179 non-null    int32 \n",
      "dtypes: int32(4), object(1)\n",
      "memory usage: 18.3 KB\n"
     ]
    }
   ],
   "source": [
    "poblacion_completa.info(memory_usage='deep')"
   ]
  },
  {
   "cell_type": "code",
   "execution_count": 52,
   "id": "1a8150d5",
   "metadata": {},
   "outputs": [],
   "source": [
    "poblacion_completa.to_csv('../ETL-Project/data/poblacion_completa.csv', index = False)"
   ]
  },
  {
   "cell_type": "code",
   "execution_count": null,
   "id": "3a61e5a2",
   "metadata": {},
   "outputs": [],
   "source": []
  }
 ],
 "metadata": {
  "kernelspec": {
   "display_name": "Python 3 (ipykernel)",
   "language": "python",
   "name": "python3"
  },
  "language_info": {
   "codemirror_mode": {
    "name": "ipython",
    "version": 3
   },
   "file_extension": ".py",
   "mimetype": "text/x-python",
   "name": "python",
   "nbconvert_exporter": "python",
   "pygments_lexer": "ipython3",
   "version": "3.9.13"
  }
 },
 "nbformat": 4,
 "nbformat_minor": 5
}
