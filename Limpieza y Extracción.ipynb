{
 "cells": [
  {
   "cell_type": "markdown",
   "id": "d59a5713",
   "metadata": {},
   "source": [
    "Importación CSV data_books desde Kaggle"
   ]
  },
  {
   "cell_type": "code",
   "execution_count": 1,
   "id": "6b589ea4",
   "metadata": {},
   "outputs": [],
   "source": [
    "# import libraries\n",
    "\n",
    "import pandas as pd\n",
    "\n",
    "\n",
    "import numpy as np\n",
    "\n",
    "import warnings\n",
    "warnings.filterwarnings ('ignore')\n",
    "\n",
    "pd.set_option('display.max_columns', None)\n",
    "pd.set_option('display.max_rows', None)\n",
    "\n",
    "import seaborn as sns\n",
    "\n",
    "import matplotlib.pyplot as plt"
   ]
  },
  {
   "cell_type": "code",
   "execution_count": 22,
   "id": "ffc0db25",
   "metadata": {},
   "outputs": [],
   "source": [
    "#import csv and creat a copy of the original df\n",
    "\n",
    "comedoresmadrid_ori = pd.read_csv('../ETL-Project/data/servicios_sociales_registro_centros.csv',\n",
    "                                  encoding = 'latin1', on_bad_lines='skip',sep=';')\n",
    "\n",
    "comedoresmadrid = comedoresmadrid_ori.copy()"
   ]
  },
  {
   "cell_type": "code",
   "execution_count": 30,
   "id": "d96f6bf0",
   "metadata": {},
   "outputs": [
    {
     "data": {
      "text/html": [
       "<div>\n",
       "<style scoped>\n",
       "    .dataframe tbody tr th:only-of-type {\n",
       "        vertical-align: middle;\n",
       "    }\n",
       "\n",
       "    .dataframe tbody tr th {\n",
       "        vertical-align: top;\n",
       "    }\n",
       "\n",
       "    .dataframe thead th {\n",
       "        text-align: right;\n",
       "    }\n",
       "</style>\n",
       "<table border=\"1\" class=\"dataframe\">\n",
       "  <thead>\n",
       "    <tr style=\"text-align: right;\">\n",
       "      <th></th>\n",
       "      <th>numero_registro</th>\n",
       "      <th>denominacion</th>\n",
       "      <th>plazas_autorizadas_numero</th>\n",
       "      <th>plazas_descripcion</th>\n",
       "      <th>tipologia</th>\n",
       "      <th>subtipo</th>\n",
       "      <th>sector</th>\n",
       "      <th>municipio_codigo</th>\n",
       "      <th>municipio_nombre</th>\n",
       "      <th>direccion_via_tipo</th>\n",
       "      <th>direccion_via_codigo</th>\n",
       "      <th>direccion_via_nombre</th>\n",
       "      <th>direccion_portal</th>\n",
       "      <th>direccion_coor_x</th>\n",
       "      <th>direccion_coor_y</th>\n",
       "      <th>direccion_codigo_postal</th>\n",
       "      <th>contacto_telefono</th>\n",
       "      <th>entidad_denominacion</th>\n",
       "      <th>entidad_cif</th>\n",
       "      <th>entidad_naturaleza</th>\n",
       "    </tr>\n",
       "  </thead>\n",
       "  <tbody>\n",
       "    <tr>\n",
       "      <th>0</th>\n",
       "      <td>C0003</td>\n",
       "      <td>CENTRO DE REHABILITACION LABORAL NUEVA VIDA</td>\n",
       "      <td>40</td>\n",
       "      <td>Capacidad máxima simultánea</td>\n",
       "      <td>CENTROS DE REHABILITACIÓN</td>\n",
       "      <td>CENTROS DE REHABILITACIÓN: OTROS</td>\n",
       "      <td>Personas con enfermedad mental crónica</td>\n",
       "      <td>079</td>\n",
       "      <td>Madrid</td>\n",
       "      <td>CALLE</td>\n",
       "      <td>01394</td>\n",
       "      <td>de Colomer</td>\n",
       "      <td>14</td>\n",
       "      <td>443535</td>\n",
       "      <td>4475980</td>\n",
       "      <td>28028</td>\n",
       "      <td>91355 26 80</td>\n",
       "      <td>ASOCIACION PSIQUIATRIA Y VIDA</td>\n",
       "      <td>G28727261</td>\n",
       "      <td>PRIVADA SIN ÁNIMO DE LUCRO</td>\n",
       "    </tr>\n",
       "    <tr>\n",
       "      <th>1</th>\n",
       "      <td>C0005</td>\n",
       "      <td>NTRA. SRA. DE FATIMA, RESIDENCIA DE PERSONAS M...</td>\n",
       "      <td>96</td>\n",
       "      <td>Plazas totales</td>\n",
       "      <td>CENTROS RESIDENCIALES</td>\n",
       "      <td>RESIDENCIAS DE PERSONAS MAYORES DEPENDIENTES</td>\n",
       "      <td>Personas mayores</td>\n",
       "      <td>061</td>\n",
       "      <td>Galapagar</td>\n",
       "      <td>CALLE</td>\n",
       "      <td>A0502</td>\n",
       "      <td>Procesiones</td>\n",
       "      <td>44</td>\n",
       "      <td>414969</td>\n",
       "      <td>4491768</td>\n",
       "      <td>28260</td>\n",
       "      <td>91 858 42 40</td>\n",
       "      <td>RESIDENCIA FATIMA, S.L.</td>\n",
       "      <td>B79025193</td>\n",
       "      <td>PRIVADA CON ÁNIMO DE LUCRO</td>\n",
       "    </tr>\n",
       "    <tr>\n",
       "      <th>2</th>\n",
       "      <td>C0007</td>\n",
       "      <td>SAN CAMILO, RESIDENCIA DE PERSONAS MAYORES</td>\n",
       "      <td>144</td>\n",
       "      <td>Plazas totales</td>\n",
       "      <td>CENTROS RESIDENCIALES</td>\n",
       "      <td>RESIDENCIAS DE PERSONAS MAYORES DEPENDIENTES</td>\n",
       "      <td>Personas mayores</td>\n",
       "      <td>903</td>\n",
       "      <td>Tres Cantos</td>\n",
       "      <td>SECT</td>\n",
       "      <td>00008</td>\n",
       "      <td>Escultores</td>\n",
       "      <td>39</td>\n",
       "      <td>439492</td>\n",
       "      <td>4496185</td>\n",
       "      <td>28760</td>\n",
       "      <td>91 803 40 00</td>\n",
       "      <td>RR. CAMILOS-RESIDENCIA ASISTIDA SAN CAMILO</td>\n",
       "      <td>R2800714D</td>\n",
       "      <td>PRIVADA SIN ÁNIMO DE LUCRO</td>\n",
       "    </tr>\n",
       "    <tr>\n",
       "      <th>3</th>\n",
       "      <td>C0010</td>\n",
       "      <td>NUEVA EDAD, CENTRO DE DIA</td>\n",
       "      <td>60</td>\n",
       "      <td>Capacidad máxima simultánea</td>\n",
       "      <td>CENTROS DE DÍA</td>\n",
       "      <td>CENTROS DE DÍA: OTROS</td>\n",
       "      <td>Personas mayores</td>\n",
       "      <td>079</td>\n",
       "      <td>Madrid</td>\n",
       "      <td>CALLE</td>\n",
       "      <td>09814</td>\n",
       "      <td>de Martínez Villergas</td>\n",
       "      <td>6</td>\n",
       "      <td>444628</td>\n",
       "      <td>4476573</td>\n",
       "      <td>28027</td>\n",
       "      <td>914 033 131/902 095 902</td>\n",
       "      <td>ASOCIACION SERVICIO INTEGRAL SECTORIAL PARA AN...</td>\n",
       "      <td>G28702504</td>\n",
       "      <td>PRIVADA SIN ÁNIMO DE LUCRO</td>\n",
       "    </tr>\n",
       "    <tr>\n",
       "      <th>4</th>\n",
       "      <td>C0018</td>\n",
       "      <td>MADRE MARAVILLAS, RESIDENCIA DE PERSONAS MAYORES</td>\n",
       "      <td>54</td>\n",
       "      <td>Plazas totales</td>\n",
       "      <td>CENTROS RESIDENCIALES</td>\n",
       "      <td>RESIDENCIAS DE PERSONAS MAYORES DEPENDIENTES</td>\n",
       "      <td>Personas mayores</td>\n",
       "      <td>065</td>\n",
       "      <td>Getafe</td>\n",
       "      <td>PLAZA</td>\n",
       "      <td>A0384</td>\n",
       "      <td>de la Iglesia</td>\n",
       "      <td>1</td>\n",
       "      <td>444151</td>\n",
       "      <td>4463737</td>\n",
       "      <td>28909</td>\n",
       "      <td>91 684 70 85</td>\n",
       "      <td>CENTRO GERIATRICO MADRE MARAVILLAS, S.A.</td>\n",
       "      <td>A78679669</td>\n",
       "      <td>PRIVADA CON ÁNIMO DE LUCRO</td>\n",
       "    </tr>\n",
       "  </tbody>\n",
       "</table>\n",
       "</div>"
      ],
      "text/plain": [
       "  numero_registro                                       denominacion  \\\n",
       "0           C0003        CENTRO DE REHABILITACION LABORAL NUEVA VIDA   \n",
       "1           C0005  NTRA. SRA. DE FATIMA, RESIDENCIA DE PERSONAS M...   \n",
       "2           C0007         SAN CAMILO, RESIDENCIA DE PERSONAS MAYORES   \n",
       "3           C0010                          NUEVA EDAD, CENTRO DE DIA   \n",
       "4           C0018   MADRE MARAVILLAS, RESIDENCIA DE PERSONAS MAYORES   \n",
       "\n",
       "   plazas_autorizadas_numero           plazas_descripcion  \\\n",
       "0                         40  Capacidad máxima simultánea   \n",
       "1                         96               Plazas totales   \n",
       "2                        144               Plazas totales   \n",
       "3                         60  Capacidad máxima simultánea   \n",
       "4                         54               Plazas totales   \n",
       "\n",
       "                   tipologia                                       subtipo  \\\n",
       "0  CENTROS DE REHABILITACIÓN              CENTROS DE REHABILITACIÓN: OTROS   \n",
       "1      CENTROS RESIDENCIALES  RESIDENCIAS DE PERSONAS MAYORES DEPENDIENTES   \n",
       "2      CENTROS RESIDENCIALES  RESIDENCIAS DE PERSONAS MAYORES DEPENDIENTES   \n",
       "3             CENTROS DE DÍA                         CENTROS DE DÍA: OTROS   \n",
       "4      CENTROS RESIDENCIALES  RESIDENCIAS DE PERSONAS MAYORES DEPENDIENTES   \n",
       "\n",
       "                                   sector municipio_codigo municipio_nombre  \\\n",
       "0  Personas con enfermedad mental crónica              079           Madrid   \n",
       "1                        Personas mayores              061        Galapagar   \n",
       "2                        Personas mayores              903      Tres Cantos   \n",
       "3                        Personas mayores              079           Madrid   \n",
       "4                        Personas mayores              065           Getafe   \n",
       "\n",
       "  direccion_via_tipo direccion_via_codigo   direccion_via_nombre  \\\n",
       "0              CALLE                01394             de Colomer   \n",
       "1              CALLE                A0502            Procesiones   \n",
       "2               SECT                00008             Escultores   \n",
       "3              CALLE                09814  de Martínez Villergas   \n",
       "4              PLAZA                A0384          de la Iglesia   \n",
       "\n",
       "  direccion_portal direccion_coor_x direccion_coor_y direccion_codigo_postal  \\\n",
       "0               14           443535          4475980                   28028   \n",
       "1               44           414969          4491768                   28260   \n",
       "2               39           439492          4496185                   28760   \n",
       "3                6           444628          4476573                   28027   \n",
       "4                1           444151          4463737                   28909   \n",
       "\n",
       "         contacto_telefono                               entidad_denominacion  \\\n",
       "0              91355 26 80                      ASOCIACION PSIQUIATRIA Y VIDA   \n",
       "1             91 858 42 40                            RESIDENCIA FATIMA, S.L.   \n",
       "2             91 803 40 00         RR. CAMILOS-RESIDENCIA ASISTIDA SAN CAMILO   \n",
       "3  914 033 131/902 095 902  ASOCIACION SERVICIO INTEGRAL SECTORIAL PARA AN...   \n",
       "4             91 684 70 85           CENTRO GERIATRICO MADRE MARAVILLAS, S.A.   \n",
       "\n",
       "  entidad_cif          entidad_naturaleza  \n",
       "0   G28727261  PRIVADA SIN ÁNIMO DE LUCRO  \n",
       "1   B79025193  PRIVADA CON ÁNIMO DE LUCRO  \n",
       "2   R2800714D  PRIVADA SIN ÁNIMO DE LUCRO  \n",
       "3   G28702504  PRIVADA SIN ÁNIMO DE LUCRO  \n",
       "4   A78679669  PRIVADA CON ÁNIMO DE LUCRO  "
      ]
     },
     "execution_count": 30,
     "metadata": {},
     "output_type": "execute_result"
    }
   ],
   "source": [
    "comedoresmadrid.head()"
   ]
  },
  {
   "cell_type": "code",
   "execution_count": 27,
   "id": "1e0f387f",
   "metadata": {},
   "outputs": [
    {
     "data": {
      "text/plain": [
       "array(['CENTROS DE REHABILITACIÓN', 'CENTROS RESIDENCIALES',\n",
       "       'CENTROS DE DÍA', 'CENTROS OCUPACIONALES', 'CENTROS DE ACOGIDA',\n",
       "       'CENTROS EXPERIMENTALES O NO CLASIFICADOS'], dtype=object)"
      ]
     },
     "execution_count": 27,
     "metadata": {},
     "output_type": "execute_result"
    }
   ],
   "source": [
    "comedoresmadrid.tipologia.unique()"
   ]
  },
  {
   "cell_type": "code",
   "execution_count": 32,
   "id": "7fed7122",
   "metadata": {},
   "outputs": [
    {
     "data": {
      "text/plain": [
       "array(['Personas con enfermedad mental crónica', 'Personas mayores',\n",
       "       'Personas sin hogar', 'Mujer', 'Infancia y Adolescencia',\n",
       "       'Personas con discapacidad intelectual', 'Familia',\n",
       "       'Personas con discapacidad física', 'Presos y ex reclusos',\n",
       "       'Infancia', 'Adolescencia', 'Conjunto de la población',\n",
       "       'Otros grupos en situación de necesidad',\n",
       "       '(Inmigracion) Otros grupos en situación de necesidad',\n",
       "       'Refugiados y asilados', 'Colectivos en situación de necesidad'],\n",
       "      dtype=object)"
      ]
     },
     "execution_count": 32,
     "metadata": {},
     "output_type": "execute_result"
    }
   ],
   "source": [
    "comedoresmadrid.sector.unique()"
   ]
  },
  {
   "cell_type": "code",
   "execution_count": 33,
   "id": "41bcc6fc",
   "metadata": {},
   "outputs": [
    {
     "data": {
      "image/png": "[encoded data removed]",
      "text/plain": [
       "<Figure size 1000x600 with 1 Axes>"
      ]
     },
     "metadata": {},
     "output_type": "display_data"
    }
   ],
   "source": [
    "plt.figure(figsize=(10, 6))  \n",
    "\n",
    "sns.heatmap(comedoresmadrid.isna(),   \n",
    "            yticklabels=False,\n",
    "            cmap='viridis',\n",
    "            cbar=False\n",
    "           )\n",
    "\n",
    "plt.show();"
   ]
  },
  {
   "cell_type": "code",
   "execution_count": 36,
   "id": "03a299c9",
   "metadata": {},
   "outputs": [
    {
     "data": {
      "text/html": [
       "<div>\n",
       "<style scoped>\n",
       "    .dataframe tbody tr th:only-of-type {\n",
       "        vertical-align: middle;\n",
       "    }\n",
       "\n",
       "    .dataframe tbody tr th {\n",
       "        vertical-align: top;\n",
       "    }\n",
       "\n",
       "    .dataframe thead th {\n",
       "        text-align: right;\n",
       "    }\n",
       "</style>\n",
       "<table border=\"1\" class=\"dataframe\">\n",
       "  <thead>\n",
       "    <tr style=\"text-align: right;\">\n",
       "      <th></th>\n",
       "      <th>numero_registro</th>\n",
       "      <th>denominacion</th>\n",
       "      <th>plazas_autorizadas_numero</th>\n",
       "      <th>plazas_descripcion</th>\n",
       "      <th>tipologia</th>\n",
       "      <th>subtipo</th>\n",
       "      <th>sector</th>\n",
       "      <th>municipio_codigo</th>\n",
       "      <th>municipio_nombre</th>\n",
       "      <th>direccion_via_tipo</th>\n",
       "      <th>direccion_via_codigo</th>\n",
       "      <th>direccion_via_nombre</th>\n",
       "      <th>direccion_portal</th>\n",
       "      <th>direccion_coor_x</th>\n",
       "      <th>direccion_coor_y</th>\n",
       "      <th>direccion_codigo_postal</th>\n",
       "      <th>contacto_telefono</th>\n",
       "      <th>entidad_denominacion</th>\n",
       "      <th>entidad_cif</th>\n",
       "      <th>entidad_naturaleza</th>\n",
       "    </tr>\n",
       "  </thead>\n",
       "  <tbody>\n",
       "  </tbody>\n",
       "</table>\n",
       "</div>"
      ],
      "text/plain": [
       "Empty DataFrame\n",
       "Columns: [numero_registro, denominacion, plazas_autorizadas_numero, plazas_descripcion, tipologia, subtipo, sector, municipio_codigo, municipio_nombre, direccion_via_tipo, direccion_via_codigo, direccion_via_nombre, direccion_portal, direccion_coor_x, direccion_coor_y, direccion_codigo_postal, contacto_telefono, entidad_denominacion, entidad_cif, entidad_naturaleza]\n",
       "Index: []"
      ]
     },
     "execution_count": 36,
     "metadata": {},
     "output_type": "execute_result"
    }
   ],
   "source": [
    "busquedacomedores = comedoresmadrid[comedoresmadrid.apply(lambda x: 'comedor' in ' '.join(x.astype(str)), axis=1)]\n",
    "\n",
    "busquedacomedores"
   ]
  },
  {
   "cell_type": "code",
   "execution_count": 39,
   "id": "43039a5c",
   "metadata": {},
   "outputs": [
    {
     "data": {
      "text/plain": [
       "<Response [200]>"
      ]
     },
     "execution_count": 39,
     "metadata": {},
     "output_type": "execute_result"
    }
   ],
   "source": [
    "import requests\n",
    "from bs4 import BeautifulSoup\n",
    "\n",
    "# Hacer una solicitud a la página web con los comedores sociales\n",
    "url = 'https://www.google.es/maps/search/comedores+sociales+madrid/@40.4647197,-3.6987309,13z?hl=es'\n",
    "googlemaps = requests.get(url)\n",
    "\n",
    "\n",
    "    \n",
    "    \n",
    "googlemaps"
   ]
  },
  {
   "cell_type": "code",
   "execution_count": null,
   "id": "dc533186",
   "metadata": {},
   "outputs": [],
   "source": [
    "# Buscar en el HTML todas las entradas de comedor social\n",
    "comedores = soup.find_all(\"div\", class_=\"comedor-entry\")\n",
    "\n",
    "\n",
    "for comedor in comedores:\n",
    "    nombre = comedor.find(\"h2\").text\n",
    "    direccion = comedor.find(\"span\", class_=\"direccion\").text\n",
    "    telefono = comedor.find(\"span\", class_=\"telefono\").text"
   ]
  },
  {
   "cell_type": "code",
   "execution_count": 121,
   "id": "af577592",
   "metadata": {},
   "outputs": [],
   "source": [
    "from selenium import webdriver\n",
    "from webdriver_manager.chrome import ChromeDriverManager\n",
    "from selenium.webdriver.common.by import By\n",
    "from selenium.webdriver.support.ui import WebDriverWait\n",
    "from selenium.webdriver.support import expected_conditions as EC\n",
    "import time\n",
    "from scrapy import Selector\n",
    "from parsel import Selector #especial para google maps"
   ]
  },
  {
   "cell_type": "code",
   "execution_count": 142,
   "id": "b9348e97",
   "metadata": {},
   "outputs": [],
   "source": [
    "PATH = ChromeDriverManager().install()     \n",
    "\n",
    "driver=webdriver.Chrome(PATH)       \n",
    "\n",
    "url= 'https://www.google.es/maps/search/comedores+sociales+madrid/@40.4647197,-3.6987309,13z?hl=es'\n",
    "\n",
    "driver.get(url)\n",
    "\n",
    "time.sleep(0.5)\n",
    "\n",
    "a = driver.find_element(By.XPATH, '//*[@id=\"yDmH0d\"]/c-wiz/div/div/div/div[2]/div[1]/div[3]/div[1]/div[1]/form[2]/div/div/button/span')\n",
    "\n",
    "a.click() \n",
    "\n",
    "time.sleep(5)\n",
    "\n",
    "driver.find_elements(By.XPATH, '//*[@id=\"QA0Szd\"]/div/div/div[1]/div[2]/div/div[1]/div/div/div[2]/div[1]')\n",
    "\n",
    "driver.execute_script('window.scrollBy(0, 500);')\n",
    "time.sleep(2)\n",
    "\n",
    "\n",
    "\n",
    "\n",
    "\n",
    " \n",
    "\n"
   ]
  },
  {
   "cell_type": "code",
   "execution_count": null,
   "id": "4849589d",
   "metadata": {},
   "outputs": [],
   "source": [
    "lst=[]\n",
    "for e in driver.find_elements(By.CLASS_NAME, 'Nv2PK.tH5CWc.THOPZb'):\n",
    "    lst.append(e.text)\n",
    "lst \n"
   ]
  },
  {
   "cell_type": "code",
   "execution_count": 100,
   "id": "33865202",
   "metadata": {},
   "outputs": [
    {
     "data": {
      "text/plain": [
       "[<selenium.webdriver.remote.webelement.WebElement (session=\"dae4eb0092bb008625b954fd0fd496b0\", element=\"8bc943a2-4da9-4ca0-8e67-f23c67882d75\")>,\n",
       " <selenium.webdriver.remote.webelement.WebElement (session=\"dae4eb0092bb008625b954fd0fd496b0\", element=\"8c5dddb3-2922-4b26-b0c8-1ba7a9c11597\")>,\n",
       " <selenium.webdriver.remote.webelement.WebElement (session=\"dae4eb0092bb008625b954fd0fd496b0\", element=\"a4a5e446-6672-41d4-aead-0052d8f681cd\")>,\n",
       " <selenium.webdriver.remote.webelement.WebElement (session=\"dae4eb0092bb008625b954fd0fd496b0\", element=\"016729c4-c7b5-458e-a86c-7d6b9303a80c\")>,\n",
       " <selenium.webdriver.remote.webelement.WebElement (session=\"dae4eb0092bb008625b954fd0fd496b0\", element=\"3c701705-5922-4346-b6ac-38635ce961d8\")>]"
      ]
     },
     "execution_count": 100,
     "metadata": {},
     "output_type": "execute_result"
    }
   ],
   "source": [
    "driver.find_elements(By.CLASS_NAME, 'Nv2PK.tH5CWc.THOPZb')\n"
   ]
  },
  {
   "cell_type": "code",
   "execution_count": 110,
   "id": "686ebd2f",
   "metadata": {},
   "outputs": [
    {
     "data": {
      "text/plain": [
       "['Comedor Calle Canarias\\n4,4(40)\\nComedor social · C. de Canarias, 5\\nCierra pronto ⋅ 17:00 ⋅ Apertura: 12:30 (lun) · 915 35 93 30\\nSitio web\\nCómo llegar\\n  \"Por favor actualizar el teléfono del Comedor.\"',\n",
       " 'Comedor Ave María\\n4,6(77)\\nComedor social · Calle del Dr Cortezo, 4\\nCerrado ⋅ Apertura: 18:00 · 914 29 39 97\\nSitio web\\nCómo llegar\\n  \"Un lugar entre capilla y comedor social de esta gran fundación.\"',\n",
       " 'Manos De Ayuda Social\\n5,0(126)\\nAsociación u organización · Calle de la Reina de África, 10 Portal B Local 2\\nCerrado ⋅ Apertura: 10:00 (lun) · 913 56 74 00\\nSitio web\\nCómo llegar\\n  \"Excelente labor social\"',\n",
       " 'Comedor Social - Virgen de la Candelaria - Orden de Malta España\\n4,2(38)\\nOrganización de servicios sociales · C. de la Virgen de la Oliva, 69\\nCerrado ⋅ Apertura: 17:00 · 917 08 74 70\\nSitio web\\nCómo llegar\\n  \"Lo mismo sucede en todos los demás.\"',\n",
       " 'Comedor Social - San Juan Bautista - Orden de Malta España\\n4,6(160)\\nComedor social · C. de la Costa Verde, 15\\nCerrado ⋅ Apertura: 17:00 · 917 08 70 74\\nSitio web\\nCómo llegar\\n  \"Es de los mejores comedores sociales de Madrid, si no el que más.\"',\n",
       " 'Centro de Acogida e Integración Social Santiago Masarnau de la Sociedad de San Vicente de Paúl\\n4,4(130)\\nComedor social · C. Serafín de Asís, 7, A\\nCerrado ⋅ Apertura: 9:00 (sáb) · 914 70 13 50\\nSitio web\\nCómo llegar\\n  \"Ayudando en las comidas de gente en exclusion social.\"',\n",
       " 'Hijas de la Caridad de San Vicente de Paúl\\n4,8(66)\\nOrganización de servicios sociales · P.º del Gral. Martínez Campos, 18\\nCerrado ⋅ Apertura: 9:30 (sáb) · 914 46 47 39\\nSitio web\\nCómo llegar\\n  \"Comedor social y Centro de día.\"']"
      ]
     },
     "execution_count": 110,
     "metadata": {},
     "output_type": "execute_result"
    }
   ],
   "source": [
    "lst=[]\n",
    "for e in driver.find_elements(By.CLASS_NAME, 'Nv2PK.tH5CWc.THOPZb'):\n",
    "    lst.append(e.text)\n",
    "lst \n"
   ]
  },
  {
   "cell_type": "code",
   "execution_count": null,
   "id": "9eacbd0d",
   "metadata": {},
   "outputs": [],
   "source": [
    "lst=[]\n",
    "contador=0\n",
    "for e in driver.find_elements(By.CLASS_NAME, 'Nv2PK.tH5CWc.THOPZb'):\n",
    "    if contador\n",
    "    lst.append(e.text)\n",
    "    for e in range(36):    \n",
    "        driver.execute_script('window.scrollTo(0, 200);')\n",
    "        time.sleep(2)\n",
    "lst "
   ]
  },
  {
   "cell_type": "code",
   "execution_count": 126,
   "id": "0c634cb8",
   "metadata": {},
   "outputs": [],
   "source": [
    "tarjetas= driver.find_elements(By.XPATH, '//*[@id=\"QA0Szd\"]/div/div/div[1]/div[2]/div/div[1]/div/div/div[2]')\n",
    "tarjetas.execute_script('window.scrollTo(0, document.body.scrollHeight);') # hasta abajo\n"
   ]
  },
  {
   "cell_type": "code",
   "execution_count": null,
   "id": "3e750905",
   "metadata": {},
   "outputs": [],
   "source": []
  }
 ],
 "metadata": {
  "kernelspec": {
   "display_name": "Python 3 (ipykernel)",
   "language": "python",
   "name": "python3"
  },
  "language_info": {
   "codemirror_mode": {
    "name": "ipython",
    "version": 3
   },
   "file_extension": ".py",
   "mimetype": "text/x-python",
   "name": "python",
   "nbconvert_exporter": "python",
   "pygments_lexer": "ipython3",
   "version": "3.9.13"
  }
 },
 "nbformat": 4,
 "nbformat_minor": 5
}
