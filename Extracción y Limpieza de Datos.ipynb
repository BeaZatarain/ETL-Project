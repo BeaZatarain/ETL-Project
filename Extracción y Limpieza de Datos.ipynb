{
 "cells": [
  {
   "cell_type": "markdown",
   "id": "7f6b79c9",
   "metadata": {},
   "source": [
    "**EXTRACCIÓN Y LIMPIEZA DE DATOS**"
   ]
  },
  {
   "cell_type": "markdown",
   "id": "9ba141ce",
   "metadata": {},
   "source": [
    "1. EXTRACCIÓN DE DATOS"
   ]
  },
  {
   "cell_type": "code",
   "execution_count": 1,
   "id": "912933d6",
   "metadata": {},
   "outputs": [],
   "source": [
    "# importación librarias\n",
    "\n",
    "import pandas as pd\n",
    "\n",
    "\n",
    "import numpy as np\n",
    "\n",
    "import warnings\n",
    "warnings.filterwarnings ('ignore')\n",
    "\n",
    "pd.set_option('display.max_columns', None)\n",
    "pd.set_option('display.max_rows', None)\n",
    "\n",
    "import seaborn as sns\n",
    "\n",
    "import matplotlib.pyplot as plt"
   ]
  },
  {
   "cell_type": "code",
   "execution_count": 2,
   "id": "568d4ae1",
   "metadata": {},
   "outputs": [],
   "source": [
    "\n",
    "from selenium.webdriver.chrome.options import Options\n",
    "from webdriver_manager.chrome import ChromeDriverManager\n",
    "import warnings\n",
    "warnings.filterwarnings('ignore')\n",
    "from selenium import webdriver\n",
    "from selenium.webdriver.common.by import By"
   ]
  },
  {
   "cell_type": "code",
   "execution_count": 3,
   "id": "f8d757bc",
   "metadata": {},
   "outputs": [],
   "source": [
    "#driver configuration\n",
    "opciones=Options()\n",
    "\n",
    "opciones.add_experimental_option('excludeSwitches', ['enable-automation'])\n",
    "opciones.add_experimental_option('useAutomationExtension', False)\n",
    "opciones.headless=False    # si True, no aperece la ventana (headless=no visible)\n",
    "#opciones.add_argument('--start-maximized')         # comienza maximizado\n",
    "#opciones.add_argument('user-data-dir=selenium')    # mantiene las cookies\n",
    "#opciones.add_extension('driver_folder/adblock.crx')       # adblocker\n",
    "#opciones.add_argument('--incognito')"
   ]
  },
  {
   "cell_type": "markdown",
   "id": "14b20979",
   "metadata": {},
   "source": [
    "1.1 Importación CSV de Base de datos de Registro de Servicios Sociales de la Comunidad de Madrid\n",
    "\n",
    " - **Fuente**: 'https://datos.comunidad.madrid/catalogo/dataset/servicios_sociales_registro_centros'\n",
    " - **Método de extracción**: descarga CSV de la página web oficial."
   ]
  },
  {
   "cell_type": "code",
   "execution_count": 4,
   "id": "ec80ef69",
   "metadata": {},
   "outputs": [],
   "source": [
    "#import csv and creat a copy of the original df\n",
    "\n",
    "ssmadrid_ori = pd.read_csv('../ETL-Project/data/servicios_sociales_registro_centros.csv',\n",
    "                                  encoding = 'latin1', on_bad_lines='skip',sep=';')\n",
    "\n",
    "ssmadrid = ssmadrid_ori.copy()"
   ]
  },
  {
   "cell_type": "code",
   "execution_count": 5,
   "id": "b29d4bf7",
   "metadata": {},
   "outputs": [
    {
     "data": {
      "text/html": [
       "<div>\n",
       "<style scoped>\n",
       "    .dataframe tbody tr th:only-of-type {\n",
       "        vertical-align: middle;\n",
       "    }\n",
       "\n",
       "    .dataframe tbody tr th {\n",
       "        vertical-align: top;\n",
       "    }\n",
       "\n",
       "    .dataframe thead th {\n",
       "        text-align: right;\n",
       "    }\n",
       "</style>\n",
       "<table border=\"1\" class=\"dataframe\">\n",
       "  <thead>\n",
       "    <tr style=\"text-align: right;\">\n",
       "      <th></th>\n",
       "      <th>numero_registro</th>\n",
       "      <th>denominacion</th>\n",
       "      <th>plazas_autorizadas_numero</th>\n",
       "      <th>plazas_descripcion</th>\n",
       "      <th>tipologia</th>\n",
       "      <th>subtipo</th>\n",
       "      <th>sector</th>\n",
       "      <th>municipio_codigo</th>\n",
       "      <th>municipio_nombre</th>\n",
       "      <th>direccion_via_tipo</th>\n",
       "      <th>direccion_via_codigo</th>\n",
       "      <th>direccion_via_nombre</th>\n",
       "      <th>direccion_portal</th>\n",
       "      <th>direccion_coor_x</th>\n",
       "      <th>direccion_coor_y</th>\n",
       "      <th>direccion_codigo_postal</th>\n",
       "      <th>contacto_telefono</th>\n",
       "      <th>entidad_denominacion</th>\n",
       "      <th>entidad_cif</th>\n",
       "      <th>entidad_naturaleza</th>\n",
       "    </tr>\n",
       "  </thead>\n",
       "  <tbody>\n",
       "    <tr>\n",
       "      <th>0</th>\n",
       "      <td>C0003</td>\n",
       "      <td>CENTRO DE REHABILITACION LABORAL NUEVA VIDA</td>\n",
       "      <td>40</td>\n",
       "      <td>Capacidad máxima simultánea</td>\n",
       "      <td>CENTROS DE REHABILITACIÓN</td>\n",
       "      <td>CENTROS DE REHABILITACIÓN: OTROS</td>\n",
       "      <td>Personas con enfermedad mental crónica</td>\n",
       "      <td>079</td>\n",
       "      <td>Madrid</td>\n",
       "      <td>CALLE</td>\n",
       "      <td>01394</td>\n",
       "      <td>de Colomer</td>\n",
       "      <td>14</td>\n",
       "      <td>443535</td>\n",
       "      <td>4475980</td>\n",
       "      <td>28028</td>\n",
       "      <td>91355 26 80</td>\n",
       "      <td>ASOCIACION PSIQUIATRIA Y VIDA</td>\n",
       "      <td>G28727261</td>\n",
       "      <td>PRIVADA SIN ÁNIMO DE LUCRO</td>\n",
       "    </tr>\n",
       "  </tbody>\n",
       "</table>\n",
       "</div>"
      ],
      "text/plain": [
       "  numero_registro                                 denominacion  \\\n",
       "0           C0003  CENTRO DE REHABILITACION LABORAL NUEVA VIDA   \n",
       "\n",
       "   plazas_autorizadas_numero           plazas_descripcion  \\\n",
       "0                         40  Capacidad máxima simultánea   \n",
       "\n",
       "                   tipologia                           subtipo  \\\n",
       "0  CENTROS DE REHABILITACIÓN  CENTROS DE REHABILITACIÓN: OTROS   \n",
       "\n",
       "                                   sector municipio_codigo municipio_nombre  \\\n",
       "0  Personas con enfermedad mental crónica              079           Madrid   \n",
       "\n",
       "  direccion_via_tipo direccion_via_codigo direccion_via_nombre  \\\n",
       "0              CALLE                01394           de Colomer   \n",
       "\n",
       "  direccion_portal direccion_coor_x direccion_coor_y direccion_codigo_postal  \\\n",
       "0               14           443535          4475980                   28028   \n",
       "\n",
       "  contacto_telefono           entidad_denominacion entidad_cif  \\\n",
       "0       91355 26 80  ASOCIACION PSIQUIATRIA Y VIDA   G28727261   \n",
       "\n",
       "           entidad_naturaleza  \n",
       "0  PRIVADA SIN ÁNIMO DE LUCRO  "
      ]
     },
     "execution_count": 5,
     "metadata": {},
     "output_type": "execute_result"
    }
   ],
   "source": [
    "ssmadrid.head(1)"
   ]
  },
  {
   "cell_type": "markdown",
   "id": "5b8159bc",
   "metadata": {},
   "source": [
    "1.2 Scraping codigos postales de la comunidad de Madrid\n",
    "\n",
    "- **Fuente**: 'https://www.worldpostalcodes.org/es/espana/comunidad-autonoma/lista-de-codigos-postales-en-community-of-madrid'\n",
    "- **Método**: scraping utilizando la herramienta Selenium\n"
   ]
  },
  {
   "cell_type": "code",
   "execution_count": 6,
   "id": "0cceb787",
   "metadata": {},
   "outputs": [],
   "source": [
    "PATH = ChromeDriverManager().install()     # instala el driver de chrome\n",
    "\n",
    "driver=webdriver.Chrome(PATH, options=opciones)      # abre una venta una de chrome\n"
   ]
  },
  {
   "cell_type": "code",
   "execution_count": 7,
   "id": "fc0c8992",
   "metadata": {},
   "outputs": [],
   "source": [
    "url = 'https://www.worldpostalcodes.org/es/espana/comunidad-autonoma/lista-de-codigos-postales-en-community-of-madrid'"
   ]
  },
  {
   "cell_type": "code",
   "execution_count": 11,
   "id": "d486ded5",
   "metadata": {},
   "outputs": [
    {
     "ename": "NoSuchWindowException",
     "evalue": "Message: no such window: target window already closed\nfrom unknown error: web view not found\n  (Session info: chrome=110.0.5481.78)\nStacktrace:\nBacktrace:\n\t(No symbol) [0x007037D3]\n\t(No symbol) [0x00698B81]\n\t(No symbol) [0x0059B36D]\n\t(No symbol) [0x0057E5DA]\n\t(No symbol) [0x005EF0CB]\n\t(No symbol) [0x00600A56]\n\t(No symbol) [0x005EB216]\n\t(No symbol) [0x005C0D97]\n\t(No symbol) [0x005C253D]\n\tGetHandleVerifier [0x0097ABF2+2510930]\n\tGetHandleVerifier [0x009A8EC1+2700065]\n\tGetHandleVerifier [0x009AC86C+2714828]\n\tGetHandleVerifier [0x007B3480+645344]\n\t(No symbol) [0x006A0FD2]\n\t(No symbol) [0x006A6C68]\n\t(No symbol) [0x006A6D4B]\n\t(No symbol) [0x006B0D6B]\n\tBaseThreadInitThunk [0x75717D69+25]\n\tRtlInitializeExceptionChain [0x771BBB9B+107]\n\tRtlClearBits [0x771BBB1F+191]\n",
     "output_type": "error",
     "traceback": [
      "\u001b[1;31m---------------------------------------------------------------------------\u001b[0m",
      "\u001b[1;31mNoSuchWindowException\u001b[0m                     Traceback (most recent call last)",
      "\u001b[1;32m~\\AppData\\Local\\Temp\\ipykernel_22408\\4186199161.py\u001b[0m in \u001b[0;36m<module>\u001b[1;34m\u001b[0m\n\u001b[0;32m      1\u001b[0m \u001b[0mdriver\u001b[0m\u001b[1;33m.\u001b[0m\u001b[0mimplicitly_wait\u001b[0m\u001b[1;33m(\u001b[0m\u001b[1;36m3\u001b[0m\u001b[1;33m)\u001b[0m\u001b[1;33m\u001b[0m\u001b[1;33m\u001b[0m\u001b[0m\n\u001b[1;32m----> 2\u001b[1;33m \u001b[0mdriver\u001b[0m\u001b[1;33m.\u001b[0m\u001b[0mget\u001b[0m\u001b[1;33m(\u001b[0m\u001b[0murl\u001b[0m\u001b[1;33m)\u001b[0m\u001b[1;33m\u001b[0m\u001b[1;33m\u001b[0m\u001b[0m\n\u001b[0m",
      "\u001b[1;32m~\\anaconda3\\lib\\site-packages\\selenium\\webdriver\\remote\\webdriver.py\u001b[0m in \u001b[0;36mget\u001b[1;34m(self, url)\u001b[0m\n\u001b[0;32m    447\u001b[0m     \u001b[1;32mdef\u001b[0m \u001b[0mget\u001b[0m\u001b[1;33m(\u001b[0m\u001b[0mself\u001b[0m\u001b[1;33m,\u001b[0m \u001b[0murl\u001b[0m\u001b[1;33m:\u001b[0m \u001b[0mstr\u001b[0m\u001b[1;33m)\u001b[0m \u001b[1;33m->\u001b[0m \u001b[1;32mNone\u001b[0m\u001b[1;33m:\u001b[0m\u001b[1;33m\u001b[0m\u001b[1;33m\u001b[0m\u001b[0m\n\u001b[0;32m    448\u001b[0m         \u001b[1;34m\"\"\"Loads a web page in the current browser session.\"\"\"\u001b[0m\u001b[1;33m\u001b[0m\u001b[1;33m\u001b[0m\u001b[0m\n\u001b[1;32m--> 449\u001b[1;33m         \u001b[0mself\u001b[0m\u001b[1;33m.\u001b[0m\u001b[0mexecute\u001b[0m\u001b[1;33m(\u001b[0m\u001b[0mCommand\u001b[0m\u001b[1;33m.\u001b[0m\u001b[0mGET\u001b[0m\u001b[1;33m,\u001b[0m \u001b[1;33m{\u001b[0m\u001b[1;34m\"url\"\u001b[0m\u001b[1;33m:\u001b[0m \u001b[0murl\u001b[0m\u001b[1;33m}\u001b[0m\u001b[1;33m)\u001b[0m\u001b[1;33m\u001b[0m\u001b[1;33m\u001b[0m\u001b[0m\n\u001b[0m\u001b[0;32m    450\u001b[0m \u001b[1;33m\u001b[0m\u001b[0m\n\u001b[0;32m    451\u001b[0m     \u001b[1;33m@\u001b[0m\u001b[0mproperty\u001b[0m\u001b[1;33m\u001b[0m\u001b[1;33m\u001b[0m\u001b[0m\n",
      "\u001b[1;32m~\\anaconda3\\lib\\site-packages\\selenium\\webdriver\\remote\\webdriver.py\u001b[0m in \u001b[0;36mexecute\u001b[1;34m(self, driver_command, params)\u001b[0m\n\u001b[0;32m    438\u001b[0m         \u001b[0mresponse\u001b[0m \u001b[1;33m=\u001b[0m \u001b[0mself\u001b[0m\u001b[1;33m.\u001b[0m\u001b[0mcommand_executor\u001b[0m\u001b[1;33m.\u001b[0m\u001b[0mexecute\u001b[0m\u001b[1;33m(\u001b[0m\u001b[0mdriver_command\u001b[0m\u001b[1;33m,\u001b[0m \u001b[0mparams\u001b[0m\u001b[1;33m)\u001b[0m\u001b[1;33m\u001b[0m\u001b[1;33m\u001b[0m\u001b[0m\n\u001b[0;32m    439\u001b[0m         \u001b[1;32mif\u001b[0m \u001b[0mresponse\u001b[0m\u001b[1;33m:\u001b[0m\u001b[1;33m\u001b[0m\u001b[1;33m\u001b[0m\u001b[0m\n\u001b[1;32m--> 440\u001b[1;33m             \u001b[0mself\u001b[0m\u001b[1;33m.\u001b[0m\u001b[0merror_handler\u001b[0m\u001b[1;33m.\u001b[0m\u001b[0mcheck_response\u001b[0m\u001b[1;33m(\u001b[0m\u001b[0mresponse\u001b[0m\u001b[1;33m)\u001b[0m\u001b[1;33m\u001b[0m\u001b[1;33m\u001b[0m\u001b[0m\n\u001b[0m\u001b[0;32m    441\u001b[0m             \u001b[0mresponse\u001b[0m\u001b[1;33m[\u001b[0m\u001b[1;34m\"value\"\u001b[0m\u001b[1;33m]\u001b[0m \u001b[1;33m=\u001b[0m \u001b[0mself\u001b[0m\u001b[1;33m.\u001b[0m\u001b[0m_unwrap_value\u001b[0m\u001b[1;33m(\u001b[0m\u001b[0mresponse\u001b[0m\u001b[1;33m.\u001b[0m\u001b[0mget\u001b[0m\u001b[1;33m(\u001b[0m\u001b[1;34m\"value\"\u001b[0m\u001b[1;33m,\u001b[0m \u001b[1;32mNone\u001b[0m\u001b[1;33m)\u001b[0m\u001b[1;33m)\u001b[0m\u001b[1;33m\u001b[0m\u001b[1;33m\u001b[0m\u001b[0m\n\u001b[0;32m    442\u001b[0m             \u001b[1;32mreturn\u001b[0m \u001b[0mresponse\u001b[0m\u001b[1;33m\u001b[0m\u001b[1;33m\u001b[0m\u001b[0m\n",
      "\u001b[1;32m~\\anaconda3\\lib\\site-packages\\selenium\\webdriver\\remote\\errorhandler.py\u001b[0m in \u001b[0;36mcheck_response\u001b[1;34m(self, response)\u001b[0m\n\u001b[0;32m    243\u001b[0m                 \u001b[0malert_text\u001b[0m \u001b[1;33m=\u001b[0m \u001b[0mvalue\u001b[0m\u001b[1;33m[\u001b[0m\u001b[1;34m\"alert\"\u001b[0m\u001b[1;33m]\u001b[0m\u001b[1;33m.\u001b[0m\u001b[0mget\u001b[0m\u001b[1;33m(\u001b[0m\u001b[1;34m\"text\"\u001b[0m\u001b[1;33m)\u001b[0m\u001b[1;33m\u001b[0m\u001b[1;33m\u001b[0m\u001b[0m\n\u001b[0;32m    244\u001b[0m             \u001b[1;32mraise\u001b[0m \u001b[0mexception_class\u001b[0m\u001b[1;33m(\u001b[0m\u001b[0mmessage\u001b[0m\u001b[1;33m,\u001b[0m \u001b[0mscreen\u001b[0m\u001b[1;33m,\u001b[0m \u001b[0mstacktrace\u001b[0m\u001b[1;33m,\u001b[0m \u001b[0malert_text\u001b[0m\u001b[1;33m)\u001b[0m  \u001b[1;31m# type: ignore[call-arg]  # mypy is not smart enough here\u001b[0m\u001b[1;33m\u001b[0m\u001b[1;33m\u001b[0m\u001b[0m\n\u001b[1;32m--> 245\u001b[1;33m         \u001b[1;32mraise\u001b[0m \u001b[0mexception_class\u001b[0m\u001b[1;33m(\u001b[0m\u001b[0mmessage\u001b[0m\u001b[1;33m,\u001b[0m \u001b[0mscreen\u001b[0m\u001b[1;33m,\u001b[0m \u001b[0mstacktrace\u001b[0m\u001b[1;33m)\u001b[0m\u001b[1;33m\u001b[0m\u001b[1;33m\u001b[0m\u001b[0m\n\u001b[0m",
      "\u001b[1;31mNoSuchWindowException\u001b[0m: Message: no such window: target window already closed\nfrom unknown error: web view not found\n  (Session info: chrome=110.0.5481.78)\nStacktrace:\nBacktrace:\n\t(No symbol) [0x007037D3]\n\t(No symbol) [0x00698B81]\n\t(No symbol) [0x0059B36D]\n\t(No symbol) [0x0057E5DA]\n\t(No symbol) [0x005EF0CB]\n\t(No symbol) [0x00600A56]\n\t(No symbol) [0x005EB216]\n\t(No symbol) [0x005C0D97]\n\t(No symbol) [0x005C253D]\n\tGetHandleVerifier [0x0097ABF2+2510930]\n\tGetHandleVerifier [0x009A8EC1+2700065]\n\tGetHandleVerifier [0x009AC86C+2714828]\n\tGetHandleVerifier [0x007B3480+645344]\n\t(No symbol) [0x006A0FD2]\n\t(No symbol) [0x006A6C68]\n\t(No symbol) [0x006A6D4B]\n\t(No symbol) [0x006B0D6B]\n\tBaseThreadInitThunk [0x75717D69+25]\n\tRtlInitializeExceptionChain [0x771BBB9B+107]\n\tRtlClearBits [0x771BBB1F+191]\n"
     ]
    }
   ],
   "source": [
    "driver.implicitly_wait(3)\n",
    "driver.get(url)"
   ]
  },
  {
   "cell_type": "code",
   "execution_count": 10,
   "id": "25274cb9",
   "metadata": {},
   "outputs": [
    {
     "ename": "NoSuchWindowException",
     "evalue": "Message: no such window: target window already closed\nfrom unknown error: web view not found\n  (Session info: chrome=110.0.5481.78)\nStacktrace:\nBacktrace:\n\t(No symbol) [0x007037D3]\n\t(No symbol) [0x00698B81]\n\t(No symbol) [0x0059B36D]\n\t(No symbol) [0x0057E5DA]\n\t(No symbol) [0x005EF0CB]\n\t(No symbol) [0x00600A56]\n\t(No symbol) [0x005EB216]\n\t(No symbol) [0x005C0D97]\n\t(No symbol) [0x005C253D]\n\tGetHandleVerifier [0x0097ABF2+2510930]\n\tGetHandleVerifier [0x009A8EC1+2700065]\n\tGetHandleVerifier [0x009AC86C+2714828]\n\tGetHandleVerifier [0x007B3480+645344]\n\t(No symbol) [0x006A0FD2]\n\t(No symbol) [0x006A6C68]\n\t(No symbol) [0x006A6D4B]\n\t(No symbol) [0x006B0D6B]\n\tBaseThreadInitThunk [0x75717D69+25]\n\tRtlInitializeExceptionChain [0x771BBB9B+107]\n\tRtlClearBits [0x771BBB1F+191]\n",
     "output_type": "error",
     "traceback": [
      "\u001b[1;31m---------------------------------------------------------------------------\u001b[0m",
      "\u001b[1;31mNoSuchWindowException\u001b[0m                     Traceback (most recent call last)",
      "\u001b[1;32m~\\AppData\\Local\\Temp\\ipykernel_22408\\3564609372.py\u001b[0m in \u001b[0;36m<module>\u001b[1;34m\u001b[0m\n\u001b[1;32m----> 1\u001b[1;33m \u001b[0mtabla\u001b[0m \u001b[1;33m=\u001b[0m \u001b[0mdriver\u001b[0m\u001b[1;33m.\u001b[0m\u001b[0mfind_elements\u001b[0m\u001b[1;33m(\u001b[0m\u001b[0mBy\u001b[0m\u001b[1;33m.\u001b[0m\u001b[0mXPATH\u001b[0m\u001b[1;33m,\u001b[0m \u001b[1;34m'/html/body/div/div/div/div/table[1]'\u001b[0m\u001b[1;33m)\u001b[0m\u001b[1;33m\u001b[0m\u001b[1;33m\u001b[0m\u001b[0m\n\u001b[0m\u001b[0;32m      2\u001b[0m \u001b[1;33m\u001b[0m\u001b[0m\n\u001b[0;32m      3\u001b[0m \u001b[0mlitatabla\u001b[0m \u001b[1;33m=\u001b[0m \u001b[1;33m[\u001b[0m\u001b[0me\u001b[0m\u001b[1;33m.\u001b[0m\u001b[0mtext\u001b[0m\u001b[1;33m.\u001b[0m\u001b[0mstrip\u001b[0m\u001b[1;33m(\u001b[0m\u001b[1;33m)\u001b[0m\u001b[1;33m.\u001b[0m\u001b[0msplit\u001b[0m\u001b[1;33m(\u001b[0m\u001b[1;34m'\\n'\u001b[0m\u001b[1;33m)\u001b[0m \u001b[1;32mfor\u001b[0m \u001b[0me\u001b[0m \u001b[1;32min\u001b[0m \u001b[0mtabla\u001b[0m\u001b[1;33m]\u001b[0m\u001b[1;33m\u001b[0m\u001b[1;33m\u001b[0m\u001b[0m\n\u001b[0;32m      4\u001b[0m \u001b[1;33m\u001b[0m\u001b[0m\n\u001b[0;32m      5\u001b[0m \u001b[1;33m\u001b[0m\u001b[0m\n",
      "\u001b[1;32m~\\anaconda3\\lib\\site-packages\\selenium\\webdriver\\remote\\webdriver.py\u001b[0m in \u001b[0;36mfind_elements\u001b[1;34m(self, by, value)\u001b[0m\n\u001b[0;32m    858\u001b[0m         \u001b[1;31m# Return empty list if driver returns null\u001b[0m\u001b[1;33m\u001b[0m\u001b[1;33m\u001b[0m\u001b[0m\n\u001b[0;32m    859\u001b[0m         \u001b[1;31m# See https://github.com/SeleniumHQ/selenium/issues/4555\u001b[0m\u001b[1;33m\u001b[0m\u001b[1;33m\u001b[0m\u001b[0m\n\u001b[1;32m--> 860\u001b[1;33m         \u001b[1;32mreturn\u001b[0m \u001b[0mself\u001b[0m\u001b[1;33m.\u001b[0m\u001b[0mexecute\u001b[0m\u001b[1;33m(\u001b[0m\u001b[0mCommand\u001b[0m\u001b[1;33m.\u001b[0m\u001b[0mFIND_ELEMENTS\u001b[0m\u001b[1;33m,\u001b[0m \u001b[1;33m{\u001b[0m\u001b[1;34m\"using\"\u001b[0m\u001b[1;33m:\u001b[0m \u001b[0mby\u001b[0m\u001b[1;33m,\u001b[0m \u001b[1;34m\"value\"\u001b[0m\u001b[1;33m:\u001b[0m \u001b[0mvalue\u001b[0m\u001b[1;33m}\u001b[0m\u001b[1;33m)\u001b[0m\u001b[1;33m[\u001b[0m\u001b[1;34m\"value\"\u001b[0m\u001b[1;33m]\u001b[0m \u001b[1;32mor\u001b[0m \u001b[1;33m[\u001b[0m\u001b[1;33m]\u001b[0m\u001b[1;33m\u001b[0m\u001b[1;33m\u001b[0m\u001b[0m\n\u001b[0m\u001b[0;32m    861\u001b[0m \u001b[1;33m\u001b[0m\u001b[0m\n\u001b[0;32m    862\u001b[0m     \u001b[1;33m@\u001b[0m\u001b[0mproperty\u001b[0m\u001b[1;33m\u001b[0m\u001b[1;33m\u001b[0m\u001b[0m\n",
      "\u001b[1;32m~\\anaconda3\\lib\\site-packages\\selenium\\webdriver\\remote\\webdriver.py\u001b[0m in \u001b[0;36mexecute\u001b[1;34m(self, driver_command, params)\u001b[0m\n\u001b[0;32m    438\u001b[0m         \u001b[0mresponse\u001b[0m \u001b[1;33m=\u001b[0m \u001b[0mself\u001b[0m\u001b[1;33m.\u001b[0m\u001b[0mcommand_executor\u001b[0m\u001b[1;33m.\u001b[0m\u001b[0mexecute\u001b[0m\u001b[1;33m(\u001b[0m\u001b[0mdriver_command\u001b[0m\u001b[1;33m,\u001b[0m \u001b[0mparams\u001b[0m\u001b[1;33m)\u001b[0m\u001b[1;33m\u001b[0m\u001b[1;33m\u001b[0m\u001b[0m\n\u001b[0;32m    439\u001b[0m         \u001b[1;32mif\u001b[0m \u001b[0mresponse\u001b[0m\u001b[1;33m:\u001b[0m\u001b[1;33m\u001b[0m\u001b[1;33m\u001b[0m\u001b[0m\n\u001b[1;32m--> 440\u001b[1;33m             \u001b[0mself\u001b[0m\u001b[1;33m.\u001b[0m\u001b[0merror_handler\u001b[0m\u001b[1;33m.\u001b[0m\u001b[0mcheck_response\u001b[0m\u001b[1;33m(\u001b[0m\u001b[0mresponse\u001b[0m\u001b[1;33m)\u001b[0m\u001b[1;33m\u001b[0m\u001b[1;33m\u001b[0m\u001b[0m\n\u001b[0m\u001b[0;32m    441\u001b[0m             \u001b[0mresponse\u001b[0m\u001b[1;33m[\u001b[0m\u001b[1;34m\"value\"\u001b[0m\u001b[1;33m]\u001b[0m \u001b[1;33m=\u001b[0m \u001b[0mself\u001b[0m\u001b[1;33m.\u001b[0m\u001b[0m_unwrap_value\u001b[0m\u001b[1;33m(\u001b[0m\u001b[0mresponse\u001b[0m\u001b[1;33m.\u001b[0m\u001b[0mget\u001b[0m\u001b[1;33m(\u001b[0m\u001b[1;34m\"value\"\u001b[0m\u001b[1;33m,\u001b[0m \u001b[1;32mNone\u001b[0m\u001b[1;33m)\u001b[0m\u001b[1;33m)\u001b[0m\u001b[1;33m\u001b[0m\u001b[1;33m\u001b[0m\u001b[0m\n\u001b[0;32m    442\u001b[0m             \u001b[1;32mreturn\u001b[0m \u001b[0mresponse\u001b[0m\u001b[1;33m\u001b[0m\u001b[1;33m\u001b[0m\u001b[0m\n",
      "\u001b[1;32m~\\anaconda3\\lib\\site-packages\\selenium\\webdriver\\remote\\errorhandler.py\u001b[0m in \u001b[0;36mcheck_response\u001b[1;34m(self, response)\u001b[0m\n\u001b[0;32m    243\u001b[0m                 \u001b[0malert_text\u001b[0m \u001b[1;33m=\u001b[0m \u001b[0mvalue\u001b[0m\u001b[1;33m[\u001b[0m\u001b[1;34m\"alert\"\u001b[0m\u001b[1;33m]\u001b[0m\u001b[1;33m.\u001b[0m\u001b[0mget\u001b[0m\u001b[1;33m(\u001b[0m\u001b[1;34m\"text\"\u001b[0m\u001b[1;33m)\u001b[0m\u001b[1;33m\u001b[0m\u001b[1;33m\u001b[0m\u001b[0m\n\u001b[0;32m    244\u001b[0m             \u001b[1;32mraise\u001b[0m \u001b[0mexception_class\u001b[0m\u001b[1;33m(\u001b[0m\u001b[0mmessage\u001b[0m\u001b[1;33m,\u001b[0m \u001b[0mscreen\u001b[0m\u001b[1;33m,\u001b[0m \u001b[0mstacktrace\u001b[0m\u001b[1;33m,\u001b[0m \u001b[0malert_text\u001b[0m\u001b[1;33m)\u001b[0m  \u001b[1;31m# type: ignore[call-arg]  # mypy is not smart enough here\u001b[0m\u001b[1;33m\u001b[0m\u001b[1;33m\u001b[0m\u001b[0m\n\u001b[1;32m--> 245\u001b[1;33m         \u001b[1;32mraise\u001b[0m \u001b[0mexception_class\u001b[0m\u001b[1;33m(\u001b[0m\u001b[0mmessage\u001b[0m\u001b[1;33m,\u001b[0m \u001b[0mscreen\u001b[0m\u001b[1;33m,\u001b[0m \u001b[0mstacktrace\u001b[0m\u001b[1;33m)\u001b[0m\u001b[1;33m\u001b[0m\u001b[1;33m\u001b[0m\u001b[0m\n\u001b[0m",
      "\u001b[1;31mNoSuchWindowException\u001b[0m: Message: no such window: target window already closed\nfrom unknown error: web view not found\n  (Session info: chrome=110.0.5481.78)\nStacktrace:\nBacktrace:\n\t(No symbol) [0x007037D3]\n\t(No symbol) [0x00698B81]\n\t(No symbol) [0x0059B36D]\n\t(No symbol) [0x0057E5DA]\n\t(No symbol) [0x005EF0CB]\n\t(No symbol) [0x00600A56]\n\t(No symbol) [0x005EB216]\n\t(No symbol) [0x005C0D97]\n\t(No symbol) [0x005C253D]\n\tGetHandleVerifier [0x0097ABF2+2510930]\n\tGetHandleVerifier [0x009A8EC1+2700065]\n\tGetHandleVerifier [0x009AC86C+2714828]\n\tGetHandleVerifier [0x007B3480+645344]\n\t(No symbol) [0x006A0FD2]\n\t(No symbol) [0x006A6C68]\n\t(No symbol) [0x006A6D4B]\n\t(No symbol) [0x006B0D6B]\n\tBaseThreadInitThunk [0x75717D69+25]\n\tRtlInitializeExceptionChain [0x771BBB9B+107]\n\tRtlClearBits [0x771BBB1F+191]\n"
     ]
    }
   ],
   "source": [
    "tabla = driver.find_elements(By.XPATH, '/html/body/div/div/div/div/table[1]')\n",
    "\n",
    "litatabla = [e.text.strip().split('\\n') for e in tabla]\n",
    "\n",
    "\n"
   ]
  },
  {
   "cell_type": "code",
   "execution_count": null,
   "id": "59d4e068",
   "metadata": {},
   "outputs": [],
   "source": [
    "columnas=driver.find_elements(By.TAG_NAME, 'th') \n",
    "\n",
    "listcols= [e.text.strip() for e in columnas]\n",
    "\n",
    "listcols"
   ]
  },
  {
   "cell_type": "code",
   "execution_count": null,
   "id": "781a5f10",
   "metadata": {},
   "outputs": [],
   "source": [
    "data = [[e.text for e in f.find_elements(By.TAG_NAME, 'td')]  \n",
    "        for f in driver.find_element(By.TAG_NAME, 'tbody').find_elements(By.TAG_NAME, 'tr')]\n",
    "\n",
    "data = data[1:]"
   ]
  },
  {
   "cell_type": "code",
   "execution_count": null,
   "id": "ce39143f",
   "metadata": {},
   "outputs": [],
   "source": [
    "cp_madrid = pd.DataFrame(data, columns = listcols)\n",
    "\n",
    "cp_madrid.head(1)"
   ]
  },
  {
   "cell_type": "code",
   "execution_count": null,
   "id": "786e897d",
   "metadata": {},
   "outputs": [],
   "source": [
    "cp_madrid.columns = [e.lower(). replace(' ', '_') for e in cp_madrid]\n",
    "\n",
    "cp_madrid.head()"
   ]
  },
  {
   "cell_type": "code",
   "execution_count": null,
   "id": "9875bfe0",
   "metadata": {},
   "outputs": [],
   "source": [
    "cp_madrid.to_csv('../ETL-Project/data/cp_madrid.csv', index = False)"
   ]
  },
  {
   "cell_type": "markdown",
   "id": "65baf3b1",
   "metadata": {},
   "source": [
    "1.3 Población por cada código postal de la Comunidad de Madrid de 2022\n",
    "\n",
    "- **Fuente**: INE = 'https://www.ine.es/jaxiT3/Tabla.htm?t=2881'\n",
    "- **Método**: configuración de la selección de datos (población por cada CP de la Comunidad de Madrid del año 2022, por género y número total de personas)"
   ]
  },
  {
   "cell_type": "markdown",
   "id": "4029a362",
   "metadata": {},
   "source": [
    "1.4 Ayudas Sociales de la Comunidad de Madrid de 2022\n",
    "\n",
    "- **Fuente**: Portal de datos abiertos del Ayuntamiento de Madrid = 'https://datos.madrid.es/portal/site/egob'\n",
    "- **Método**: descarga de CSV"
   ]
  },
  {
   "cell_type": "markdown",
   "id": "7b222b53",
   "metadata": {},
   "source": [
    "1.5 Panel de indicadores de distritos y barrios de Madrid de 2022.\n",
    "- **Fuente**: Portal de datos abiertos del Ayuntamiento de Madrid = 'https://datos.madrid.es/portal/site/egob'\n",
    "- **Método**: descarga de documento Excel."
   ]
  },
  {
   "cell_type": "code",
   "execution_count": null,
   "id": "3b5e12db",
   "metadata": {},
   "outputs": [],
   "source": []
  }
 ],
 "metadata": {
  "kernelspec": {
   "display_name": "Python 3 (ipykernel)",
   "language": "python",
   "name": "python3"
  },
  "language_info": {
   "codemirror_mode": {
    "name": "ipython",
    "version": 3
   },
   "file_extension": ".py",
   "mimetype": "text/x-python",
   "name": "python",
   "nbconvert_exporter": "python",
   "pygments_lexer": "ipython3",
   "version": "3.9.13"
  }
 },
 "nbformat": 4,
 "nbformat_minor": 5
}
